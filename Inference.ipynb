{
 "cells": [
  {
   "cell_type": "markdown",
   "metadata": {
    "colab_type": "text",
    "id": "GogVNX5TGK8w"
   },
   "source": [
    "## 0.读取数据"
   ]
  },
  {
   "cell_type": "code",
   "execution_count": 0,
   "metadata": {
    "colab": {},
    "colab_type": "code",
    "id": "vooh6-guMt7-"
   },
   "outputs": [],
   "source": [
    "import os\n",
    "import cv2\n",
    "from PIL import Image\n",
    "import glob\n",
    "import numpy as np\n",
    "import torch\n",
    "from torch.utils.data import Dataset, DataLoader\n",
    "from torchvision import transforms, utils\n",
    "import matplotlib.pylab as plt\n",
    "import pandas as pd\n",
    "import torch.nn as nn"
   ]
  },
  {
   "cell_type": "code",
   "execution_count": 0,
   "metadata": {
    "colab": {},
    "colab_type": "code",
    "id": "jWXi_bUrxuju"
   },
   "outputs": [],
   "source": [
    "class Testset(Dataset):\n",
    "  \n",
    "    def __init__(self, test_root, transform=None):\n",
    "        self.test_root = test_root\n",
    "        self.transform = transform\n",
    "        reg = test_root + '/*.jpg'\n",
    "        imglist = glob.glob(reg)\n",
    "        imglist.sort()\n",
    "        self.imgs_path = imglist\n",
    "\n",
    "    def __len__(self):\n",
    "        return len(self.imgs_path)\n",
    "\n",
    "    def __getitem__(self, idx):\n",
    "        img_path = self.imgs_path[idx]\n",
    "        img = cv2.imread(img_path)\n",
    "        img = Image.fromarray(img.astype('uint8')).convert('RGB')\n",
    "        if self.transform:\n",
    "          img = self.transform(img)\n",
    "\n",
    "        item = {'img':img}\n",
    "        return item\n",
    "\n",
    "\n",
    "def show_batch(batch):\n",
    "    plt.figure()\n",
    "    imgs = batch['img']\n",
    "    print(imgs.shape)\n",
    "    batch_size = len(imgs)\n",
    "    grid = utils.make_grid(imgs)\n",
    "    plt.imshow(grid.numpy().transpose(1,2,0))\n",
    "    plt.axis('off')\n",
    "    plt.show()\n",
    "\n",
    "device = torch.device(\"cuda:0\" if torch.cuda.is_available() else \"cpu\")"
   ]
  },
  {
   "cell_type": "markdown",
   "metadata": {
    "colab_type": "text",
    "id": "m17U1JMBGUnJ"
   },
   "source": [
    "## 1.模型配置"
   ]
  },
  {
   "cell_type": "code",
   "execution_count": 0,
   "metadata": {
    "colab": {},
    "colab_type": "code",
    "id": "WClI-WvvxF-l"
   },
   "outputs": [],
   "source": [
    "class Net(nn.Module):\n",
    "  \n",
    "    def __init__(self):\n",
    "        super().__init__()\n",
    "        self.norm0 = nn.BatchNorm2d(3, eps=1e-08)\n",
    "        \n",
    "        self.conv1 = nn.Conv2d(3, 64, 3, stride=1, padding=1)\n",
    "        self.norm1 = nn.BatchNorm2d(64, eps=1e-08)\n",
    "        self.nonlinear1 = nn.ReLU()\n",
    "        \n",
    "        self.conv2 = nn.Conv2d(64, 64, 8, stride=3) # 169\n",
    "        self.norm2 = nn.BatchNorm2d(64, eps=1e-08)\n",
    "        self.nonlinear2 = nn.ReLU()\n",
    "        \n",
    "        self.conv3 = nn.Conv2d(64, 64, 5, stride=2) # 83\n",
    "        self.norm3 = nn.BatchNorm2d(64, eps=1e-8)\n",
    "        self.nonlinear3 = nn.ReLU()\n",
    "        \n",
    "        self.conv4 = nn.Conv2d(64, 64, 5, stride=2) # 40\n",
    "        self.norm4 = nn.BatchNorm2d(64, eps=1e-8)\n",
    "        self.nonlinear4 = nn.ReLU()\n",
    "        \n",
    "        self.conv5 = nn.Conv2d(64, 64, 5) # 36\n",
    "        self.norm5 = nn.BatchNorm2d(64, eps=1e-8)\n",
    "        self.nonlinear5 = nn.ReLU()\n",
    "        \n",
    "        self.conv6 = nn.Conv2d(64, 64, 5) # 32\n",
    "        self.norm6 = nn.BatchNorm2d(64, eps=1e-8)\n",
    "        self.nonlinear6 = nn.ReLU()\n",
    "        \n",
    "        self.conv7 = nn.Conv2d(64, 64, 32) # 64, 1, 1\n",
    "        self.norm7 = nn.BatchNorm2d(64, eps=1e-8)\n",
    "        self.nonlinear7 = nn.ReLU()\n",
    "        \n",
    "        self.fc1 = nn.Linear(64, 500)\n",
    "        self.norm8 = nn.BatchNorm1d(500, eps=1e-8)\n",
    "        self.nonlinear8 = nn.ReLU()\n",
    "        \n",
    "        self.fc2 = nn.Linear(500, 400)\n",
    "        self.norm9 = nn.BatchNorm1d(400, eps=1e-8)\n",
    "        self.nonlinear9 = nn.ReLU()\n",
    "        \n",
    "        self.fc3 = nn.Linear(400, 300)\n",
    "        self.normX = nn.BatchNorm1d(300, eps=1e-8)\n",
    "        self.nonlinearX = nn.ReLU()\n",
    "        \n",
    "        self.fc4 = nn.Linear(300, 1)\n",
    "        self.sig = nn.Sigmoid()\n",
    "\n",
    "    def forward(self, x):\n",
    "        out = self.norm0(x)\n",
    "        out = self.nonlinear1(self.norm1(self.conv1(out)))\n",
    "        out = self.nonlinear2(self.norm2(self.conv2(out)))\n",
    "        out = self.nonlinear3(self.norm3(self.conv3(out)))\n",
    "        out = self.nonlinear4(self.norm4(self.conv4(out)))\n",
    "        out = self.nonlinear5(self.norm5(self.conv5(out)))\n",
    "        out = self.nonlinear6(self.norm6(self.conv6(out)))\n",
    "        out = self.nonlinear7(self.norm7(self.conv7(out)))\n",
    "        \n",
    "        N = out.size(0)\n",
    "        out = out.view(N, -1)\n",
    "        \n",
    "        out = self.nonlinear8(self.norm8(self.fc1(out)))\n",
    "        out = self.nonlinear9(self.norm9(self.fc2(out)))\n",
    "        out = self.nonlinearX(self.normX(self.fc3(out)))\n",
    "        out = self.fc4(out).view(-1).double()\n",
    "        return out"
   ]
  },
  {
   "cell_type": "markdown",
   "metadata": {
    "colab_type": "text",
    "id": "fi3uITFBGZQ_"
   },
   "source": [
    "## 2.预测函数"
   ]
  },
  {
   "cell_type": "code",
   "execution_count": 0,
   "metadata": {
    "colab": {},
    "colab_type": "code",
    "id": "D085v7Mzxe6J"
   },
   "outputs": [],
   "source": [
    "def inference(model_path):\n",
    "    torch.cuda.empty_cache()\n",
    "    model = Net()\n",
    "    model.load_state_dict(torch.load(model_path))\n",
    "    model.eval()\n",
    "    model.to(device)\n",
    "    \n",
    "    pred = None\n",
    "    with torch.no_grad():\n",
    "        for samples in test_loader:\n",
    "            imgs = samples['img'].to(device)\n",
    "            scores = model(imgs)\n",
    "            scores[scores>0] = 1\n",
    "            scores[scores<=0] = 0\n",
    "            scores = scores.cpu().numpy().reshape(-1, 1).astype(int)\n",
    "            if pred is None:\n",
    "                pred = scores\n",
    "            else:\n",
    "                pred = np.vstack((pred, scores))\n",
    "    return pred"
   ]
  },
  {
   "cell_type": "markdown",
   "metadata": {
    "colab_type": "text",
    "id": "x0ngZgEOGgEj"
   },
   "source": [
    "## 3.预测结果并输出"
   ]
  },
  {
   "cell_type": "markdown",
   "metadata": {
    "colab_type": "text",
    "id": "HPoyLuOATVvp"
   },
   "source": [
    "### 3.1 训练集预测"
   ]
  },
  {
   "cell_type": "markdown",
   "metadata": {
    "colab_type": "text",
    "id": "h1rOMEQUTapa"
   },
   "source": [
    "### 3.2 测试集预测"
   ]
  },
  {
   "cell_type": "code",
   "execution_count": 6,
   "metadata": {
    "colab": {
     "base_uri": "https://localhost:8080/",
     "height": 35
    },
    "colab_type": "code",
    "executionInfo": {
     "elapsed": 24180,
     "status": "ok",
     "timestamp": 1557749817238,
     "user": {
      "displayName": "张耿",
      "photoUrl": "",
      "userId": "17787706570393703878"
     },
     "user_tz": -480
    },
    "id": "oUwEDD8g7MZo",
    "outputId": "8eeeca34-05ff-4314-8522-634596406ab0"
   },
   "outputs": [
    {
     "name": "stdout",
     "output_type": "stream",
     "text": [
      "Accuracy: grade predicton 1.000000, stage prediction 1.000000, total 1.000000\n"
     ]
    }
   ],
   "source": [
    "labels = pd.read_excel('data/DataInfo.xlsx',\n",
    "              true_values=[\"'High'\", \"'MIBC'\"], false_values=[\"'Low'\",\"'NMIBC'\"])\n",
    "gt = labels.iloc[:, 1:3].values.astype(int)\n",
    "\n",
    "testset = Testset('data/TrainingData', \n",
    "                  transforms.Compose([transforms.Resize((512,512)),\n",
    "                                      transforms.ToTensor()]))\n",
    "test_loader = DataLoader(testset, batch_size=32, shuffle=False, num_workers=0)\n",
    "#dataiter = iter(test_loader)\n",
    "#show_batch(dataiter.next())\n",
    "\n",
    "grade_pred = inference('grade_predictor.pth')\n",
    "stage_pred = inference('stage_predictor.pth')\n",
    "pred = np.hstack((grade_pred, stage_pred))\n",
    "\n",
    "grade_acc = (gt[:, 0]==grade_pred.reshape(-1)).sum()/grade_pred.shape[0]\n",
    "stage_acc = (gt[:, 1]==stage_pred.reshape(-1)).sum()/stage_pred.shape[0]\n",
    "acc = (gt==pred).sum()/gt.size\n",
    "print(\"Accuracy: grade predicton %f, stage prediction %f, total %f\"\n",
    "     % (grade_acc, stage_acc, acc))"
   ]
  },
  {
   "cell_type": "code",
   "execution_count": 7,
   "metadata": {
    "colab": {
     "base_uri": "https://localhost:8080/",
     "height": 35
    },
    "colab_type": "code",
    "executionInfo": {
     "elapsed": 24163,
     "status": "ok",
     "timestamp": 1557749817242,
     "user": {
      "displayName": "张耿",
      "photoUrl": "",
      "userId": "17787706570393703878"
     },
     "user_tz": -480
    },
    "id": "D8koNevW7BfM",
    "outputId": "55186243-bbe3-453e-de2d-04d2b0ae5c7d"
   },
   "outputs": [
    {
     "name": "stdout",
     "output_type": "stream",
     "text": [
      "done!\n"
     ]
    }
   ],
   "source": [
    "testset = Testset('data/TestingData',\n",
    "                  transforms.Compose([transforms.Resize((512,512)),\n",
    "                                      transforms.ToTensor()]))\n",
    "test_loader = DataLoader(testset, batch_size=1, shuffle=False, num_workers=0)\n",
    "\n",
    "grade_inf = inference('grade_predictor.pth')\n",
    "stage_inf = inference('stage_predictor.pth')\n",
    "\n",
    "#dataiter = iter(test_loader)\n",
    "#show_batch(dataiter.next())\n",
    "\n",
    "d1 = np.chararray(grade_inf.shape, 5, unicode=True)\n",
    "d1[grade_inf==0]='LOW'\n",
    "d1[grade_inf==1]='HIGH'\n",
    "\n",
    "d2 = np.chararray(stage_inf.shape, 5, unicode=True)\n",
    "d2[stage_inf==0]='NMIBC'\n",
    "d2[stage_inf==1]='MIBC'\n",
    "\n",
    "d = np.hstack((d1, d2))\n",
    "df = pd.DataFrame(d, columns=['Grade', 'Stage'])\n",
    "df.to_csv('submission.csv', index=False)\n",
    "print(\"done!\")"
   ]
  }
 ],
 "metadata": {
  "accelerator": "GPU",
  "colab": {
   "collapsed_sections": [],
   "name": "Inference.ipynb",
   "provenance": [],
   "version": "0.3.2"
  },
  "kernelspec": {
   "display_name": "Python 3",
   "language": "python",
   "name": "python3"
  },
  "language_info": {
   "codemirror_mode": {
    "name": "ipython",
    "version": 3
   },
   "file_extension": ".py",
   "mimetype": "text/x-python",
   "name": "python",
   "nbconvert_exporter": "python",
   "pygments_lexer": "ipython3",
   "version": "3.7.1"
  }
 },
 "nbformat": 4,
 "nbformat_minor": 1
}
