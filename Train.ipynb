{
 "cells": [
  {
   "cell_type": "markdown",
   "metadata": {
    "colab_type": "text",
    "id": "vphcy4PuYRsY"
   },
   "source": [
    "## 0.数据读取和处理"
   ]
  },
  {
   "cell_type": "code",
   "execution_count": 0,
   "metadata": {
    "colab": {},
    "colab_type": "code",
    "id": "ghVv5-sNFkP7"
   },
   "outputs": [],
   "source": [
    "import os\n",
    "import copy\n",
    "import cv2\n",
    "from PIL import Image\n",
    "import numpy as np\n",
    "import pandas as pd\n",
    "import torch\n",
    "from torch.utils.data import Dataset, DataLoader, Subset\n",
    "from torchvision import transforms, utils\n",
    "import matplotlib.pylab as plt\n",
    "\n",
    "import torch.nn as nn\n",
    "import torch.optim as optim"
   ]
  },
  {
   "cell_type": "code",
   "execution_count": 5,
   "metadata": {
    "colab": {
     "base_uri": "https://localhost:8080/",
     "height": 35
    },
    "colab_type": "code",
    "executionInfo": {
     "elapsed": 1814,
     "status": "ok",
     "timestamp": 1557744194958,
     "user": {
      "displayName": "张耿",
      "photoUrl": "",
      "userId": "17787706570393703878"
     },
     "user_tz": -480
    },
    "id": "MNGiNwX_YRsa",
    "outputId": "7d3208ba-d906-4b95-e669-012e703582bf"
   },
   "outputs": [
    {
     "name": "stdout",
     "output_type": "stream",
     "text": [
      "cuda:0\n"
     ]
    }
   ],
   "source": [
    "class DTSet(Dataset):\n",
    "    \n",
    "    def __init__(self, img_root, label_path, transform=None):\n",
    "        self.img_root = img_root\n",
    "        self.transform = transform\n",
    "        self.labels = pd.read_excel(label_path, \n",
    "                                    true_values=[\"'High'\", \"'MIBC'\"],\n",
    "                                    false_values=[\"'Low'\",\"'NMIBC'\"])\n",
    "        \n",
    "    def __len__(self):\n",
    "        return self.labels.shape[0]\n",
    "    \n",
    "    def __getitem__(self, idx):\n",
    "        #img_path = self.img_root + \"/\" + self.labels.iloc[idx, 0].strip(\"'\") + \".jpg\"\n",
    "        img_path = self.img_root + \"/\" + self.labels.iloc[idx, 0].strip(\"'\")\n",
    "        img = cv2.imread(img_path)\n",
    "        img = Image.fromarray(img.astype('uint8')).convert('RGB')\n",
    "        \n",
    "        if self.transform:\n",
    "            img = self.transform(img)\n",
    "        \n",
    "        grade = self.labels.iloc[idx, 1].astype(np.float)\n",
    "        stage = self.labels.iloc[idx, 2].astype(np.float)\n",
    "        \n",
    "        sample = {'img':img, 'grade':grade, 'stage':stage}\n",
    "        return sample\n",
    "\n",
    "\n",
    "def show_sample(sample):\n",
    "    \"\"\"\n",
    "        sample['img'].shape = (H, W, C)\n",
    "    \"\"\"\n",
    "    title = \"grade: \" + str(sample['grade']) + \" stage: \" + str(sample['stage'])\n",
    "    plt.figure()\n",
    "    plt.imshow(sample['img'])\n",
    "    plt.title(title)\n",
    "    plt.axis('off')\n",
    "    \n",
    "\n",
    "def show_batch(batch):\n",
    "    plt.figure()\n",
    "    imgs = batch['img']\n",
    "    print(imgs.shape)\n",
    "    batch_size = len(imgs)\n",
    "    grid = utils.make_grid(imgs)\n",
    "    plt.imshow(grid.numpy().transpose(1,2,0))\n",
    "    plt.axis('off')\n",
    "    plt.show()\n",
    "\n",
    "\n",
    "#dataset = DTSet('data/TrainingData', 'data/DataInfo.xlsx')\n",
    "#show_sample(dataset[0])\n",
    "\n",
    "dataset = DTSet('data/Train_img', \n",
    "                'data/Train_label.xlsx', \n",
    "                transforms.Compose([\n",
    "                    transforms.RandomAffine(10, translate=(0.05, 0.05), fillcolor=0),\n",
    "                    transforms.ColorJitter(brightness=0.1, contrast=0.1, saturation=0.1),\n",
    "                    transforms.Resize((512,512)),\n",
    "                    transforms.ToTensor()\n",
    "                ]))\n",
    "\n",
    "device = torch.device(\"cuda:0\" if torch.cuda.is_available() else \"cpu\")\n",
    "print(device)"
   ]
  },
  {
   "cell_type": "markdown",
   "metadata": {
    "colab_type": "text",
    "id": "4AkzDjlFYRsl"
   },
   "source": [
    "## 1.模型定义"
   ]
  },
  {
   "cell_type": "code",
   "execution_count": 0,
   "metadata": {
    "colab": {},
    "colab_type": "code",
    "id": "tb2NUylrYRst"
   },
   "outputs": [],
   "source": [
    "class Net(nn.Module):\n",
    "  \n",
    "    def __init__(self):\n",
    "        super().__init__()\n",
    "        self.norm0 = nn.BatchNorm2d(3, eps=1e-08)\n",
    "        \n",
    "        self.conv1 = nn.Conv2d(3, 64, 3, stride=1, padding=1)\n",
    "        self.norm1 = nn.BatchNorm2d(64, eps=1e-08)\n",
    "        self.nonlinear1 = nn.ReLU()\n",
    "        \n",
    "        self.conv2 = nn.Conv2d(64, 64, 8, stride=3) # 169\n",
    "        self.norm2 = nn.BatchNorm2d(64, eps=1e-08)\n",
    "        self.nonlinear2 = nn.ReLU()\n",
    "        \n",
    "        self.conv3 = nn.Conv2d(64, 64, 5, stride=2) # 83\n",
    "        self.norm3 = nn.BatchNorm2d(64, eps=1e-8)\n",
    "        self.nonlinear3 = nn.ReLU()\n",
    "        \n",
    "        self.conv4 = nn.Conv2d(64, 64, 5, stride=2) # 40\n",
    "        self.norm4 = nn.BatchNorm2d(64, eps=1e-8)\n",
    "        self.nonlinear4 = nn.ReLU()\n",
    "        \n",
    "        self.conv5 = nn.Conv2d(64, 64, 5) # 36\n",
    "        self.norm5 = nn.BatchNorm2d(64, eps=1e-8)\n",
    "        self.nonlinear5 = nn.ReLU()\n",
    "        \n",
    "        self.conv6 = nn.Conv2d(64, 64, 5) # 32\n",
    "        self.norm6 = nn.BatchNorm2d(64, eps=1e-8)\n",
    "        self.nonlinear6 = nn.ReLU()\n",
    "        \n",
    "        self.conv7 = nn.Conv2d(64, 64, 32) # 64, 1, 1\n",
    "        self.norm7 = nn.BatchNorm2d(64, eps=1e-8)\n",
    "        self.nonlinear7 = nn.ReLU()\n",
    "        \n",
    "        self.fc1 = nn.Linear(64, 500)\n",
    "        self.norm8 = nn.BatchNorm1d(500, eps=1e-8)\n",
    "        self.nonlinear8 = nn.ReLU()\n",
    "        \n",
    "        self.fc2 = nn.Linear(500, 400)\n",
    "        self.norm9 = nn.BatchNorm1d(400, eps=1e-8)\n",
    "        self.nonlinear9 = nn.ReLU()\n",
    "        \n",
    "        self.fc3 = nn.Linear(400, 300)\n",
    "        self.normX = nn.BatchNorm1d(300, eps=1e-8)\n",
    "        self.nonlinearX = nn.ReLU()\n",
    "        \n",
    "        self.fc4 = nn.Linear(300, 1)\n",
    "        self.sig = nn.Sigmoid()\n",
    "\n",
    "    def forward(self, x):\n",
    "        out = self.norm0(x)\n",
    "        out = self.nonlinear1(self.norm1(self.conv1(out)))\n",
    "        out = self.nonlinear2(self.norm2(self.conv2(out)))\n",
    "        out = self.nonlinear3(self.norm3(self.conv3(out)))\n",
    "        out = self.nonlinear4(self.norm4(self.conv4(out)))\n",
    "        out = self.nonlinear5(self.norm5(self.conv5(out)))\n",
    "        out = self.nonlinear6(self.norm6(self.conv6(out)))\n",
    "        out = self.nonlinear7(self.norm7(self.conv7(out)))\n",
    "        \n",
    "        N = out.size(0)\n",
    "        out = out.view(N, -1)\n",
    "        \n",
    "        out = self.nonlinear8(self.norm8(self.fc1(out)))\n",
    "        out = self.nonlinear9(self.norm9(self.fc2(out)))\n",
    "        out = self.nonlinearX(self.normX(self.fc3(out)))\n",
    "        out = self.fc4(out).view(-1).double()\n",
    "        return out"
   ]
  },
  {
   "cell_type": "markdown",
   "metadata": {
    "colab_type": "text",
    "id": "zJcvHns13v3_"
   },
   "source": [
    "### 1.1.Sanity check"
   ]
  },
  {
   "cell_type": "code",
   "execution_count": 7,
   "metadata": {
    "colab": {
     "base_uri": "https://localhost:8080/",
     "height": 809
    },
    "colab_type": "code",
    "executionInfo": {
     "elapsed": 70327,
     "status": "ok",
     "timestamp": 1557744299149,
     "user": {
      "displayName": "张耿",
      "photoUrl": "",
      "userId": "17787706570393703878"
     },
     "user_tz": -480
    },
    "id": "WYyyVmkChtOM",
    "outputId": "7791f4ba-7565-4f22-db1f-878320af2337"
   },
   "outputs": [
    {
     "name": "stdout",
     "output_type": "stream",
     "text": [
      "Sanity check for  grade\n",
      "epoch 0 / 19: acc 0.3500 loss 0.7275\n",
      "epoch 1 / 19: acc 0.4500 loss 0.7051\n",
      "epoch 2 / 19: acc 0.7000 loss 0.6139\n",
      "epoch 3 / 19: acc 0.8000 loss 0.5050\n",
      "epoch 4 / 19: acc 0.9500 loss 0.4183\n",
      "epoch 5 / 19: acc 0.8500 loss 0.4698\n",
      "epoch 6 / 19: acc 1.0000 loss 0.3046\n",
      "epoch 7 / 19: acc 0.9500 loss 0.2639\n",
      "epoch 8 / 19: acc 1.0000 loss 0.2144\n",
      "epoch 9 / 19: acc 0.9500 loss 0.2369\n",
      "epoch 10 / 19: acc 0.9000 loss 0.2748\n",
      "epoch 11 / 19: acc 0.9000 loss 0.2793\n",
      "epoch 12 / 19: acc 1.0000 loss 0.1868\n",
      "epoch 13 / 19: acc 1.0000 loss 0.1263\n",
      "epoch 14 / 19: acc 1.0000 loss 0.1652\n",
      "epoch 15 / 19: acc 1.0000 loss 0.1305\n",
      "epoch 16 / 19: acc 0.9500 loss 0.1439\n",
      "epoch 17 / 19: acc 0.9500 loss 0.1607\n",
      "epoch 18 / 19: acc 1.0000 loss 0.0989\n",
      "epoch 19 / 19: acc 1.0000 loss 0.1060\n",
      "\n",
      "Sanity check for  stage\n",
      "epoch 0 / 19: acc 0.5500 loss 0.6935\n",
      "epoch 1 / 19: acc 0.6000 loss 0.7042\n",
      "epoch 2 / 19: acc 0.5000 loss 0.6212\n",
      "epoch 3 / 19: acc 0.6500 loss 0.5645\n",
      "epoch 4 / 19: acc 0.7500 loss 0.4880\n",
      "epoch 5 / 19: acc 0.7000 loss 0.4940\n",
      "epoch 6 / 19: acc 0.9500 loss 0.3639\n",
      "epoch 7 / 19: acc 0.9000 loss 0.3211\n",
      "epoch 8 / 19: acc 1.0000 loss 0.2533\n",
      "epoch 9 / 19: acc 0.9500 loss 0.2500\n",
      "epoch 10 / 19: acc 1.0000 loss 0.2001\n",
      "epoch 11 / 19: acc 1.0000 loss 0.1690\n",
      "epoch 12 / 19: acc 1.0000 loss 0.1626\n",
      "epoch 13 / 19: acc 1.0000 loss 0.1730\n",
      "epoch 14 / 19: acc 0.9500 loss 0.1615\n",
      "epoch 15 / 19: acc 1.0000 loss 0.1126\n",
      "epoch 16 / 19: acc 0.9500 loss 0.1857\n",
      "epoch 17 / 19: acc 1.0000 loss 0.0922\n",
      "epoch 18 / 19: acc 1.0000 loss 0.0893\n",
      "epoch 19 / 19: acc 1.0000 loss 0.0888\n",
      "\n"
     ]
    }
   ],
   "source": [
    "epochs = 20\n",
    "\n",
    "shuffle_mask = np.arange(len(dataset))\n",
    "np.random.shuffle(shuffle_mask)\n",
    "trainset = Subset(dataset, shuffle_mask[:20])    \n",
    "train_loader = DataLoader(trainset, batch_size=32, shuffle=True, num_workers=4)\n",
    "\n",
    "for target_type in ['grade', 'stage']:\n",
    "    torch.cuda.empty_cache()\n",
    "    model = Net()\n",
    "    model.zero_grad()\n",
    "    model.to(device)\n",
    "    \n",
    "    optimizer = optim.Adam(model.parameters(), lr=0.001, eps=1e-8)\n",
    "    criterion = nn.BCEWithLogitsLoss()\n",
    "    \n",
    "    print(\"Sanity check for \", target_type)\n",
    "    for epoch in range(epochs):\n",
    "        train_acc = 0.0\n",
    "        train_loss = 0.0\n",
    "        model.train()\n",
    "        for samples in train_loader:\n",
    "            imgs = samples['img'].to(device)\n",
    "            gt = samples[target_type].to(device)\n",
    "            optimizer.zero_grad()\n",
    "\n",
    "            scores = model(imgs)\n",
    "            scores = scores.view(-1).double()\n",
    "            loss = criterion(scores, gt) #criterion\n",
    "            loss.backward()\n",
    "            optimizer.step()\n",
    "\n",
    "            scores[scores>0] = 1\n",
    "            scores[scores<=0] = 0\n",
    "\n",
    "            train_acc += (scores==gt).sum().cpu().numpy()\n",
    "            train_loss += loss.item()*imgs.size(0)\n",
    "        train_acc /= len(trainset)\n",
    "        train_loss /= len(trainset)\n",
    "\n",
    "        print(\"epoch %d / %d: acc %.4f loss %.4f\" \n",
    "              %(epoch, epochs-1, train_acc, train_loss))\n",
    "    print()"
   ]
  },
  {
   "cell_type": "markdown",
   "metadata": {
    "colab_type": "text",
    "id": "r-DDBipZYRsw"
   },
   "source": [
    "## 2.训练"
   ]
  },
  {
   "cell_type": "code",
   "execution_count": 0,
   "metadata": {
    "colab": {},
    "colab_type": "code",
    "id": "UKSLTw1-otl_"
   },
   "outputs": [],
   "source": [
    "criterion = nn.BCEWithLogitsLoss()\n",
    "\n",
    "def train(model, optimizer, epochs, target_type, verbose=True):\n",
    "    \"\"\"\n",
    "        outside variable: device, criterion, train_loader,\n",
    "                          val_loader trainset, valset\n",
    "    \"\"\"\n",
    "    history = {'train_loss':[], 'val_loss':[], 'train_acc':[], 'val_acc':[]}\n",
    "    best_model=copy.deepcopy(model.state_dict())\n",
    "    best_train_acc, best_val_acc = 0, 0\n",
    "    best_train_loss, best_val_loss  = np.inf, np.inf\n",
    "    \n",
    "    model.to(device) # device\n",
    "    for epoch in range(epochs):\n",
    "        train_acc = 0.0\n",
    "        train_loss = 0.0\n",
    "        model.train()\n",
    "        for samples in train_loader:\n",
    "            imgs = samples['img'].to(device)\n",
    "            gt = samples[target_type].to(device)\n",
    "            \n",
    "            scores = model(imgs)\n",
    "            scores = scores.view(-1).double()\n",
    "            loss = criterion(scores, gt) #criterion\n",
    "            optimizer.zero_grad()\n",
    "            loss.backward()\n",
    "            optimizer.step()\n",
    "            \n",
    "            scores[scores>0] = 1\n",
    "            scores[scores<=0] = 0\n",
    "\n",
    "            train_acc += (scores==gt).sum().cpu().numpy()\n",
    "            train_loss += loss.item()*imgs.size(0)\n",
    "        train_acc /= len(trainset)\n",
    "        train_loss /= len(trainset)\n",
    "        history['train_acc'].append(train_acc)\n",
    "        history['train_loss'].append(train_loss)\n",
    "        \n",
    "        model.eval()\n",
    "        val_acc, val_loss = 0.0, 0.0\n",
    "        with torch.no_grad():\n",
    "            for samples in val_loader:\n",
    "                imgs = samples['img'].to(device)\n",
    "                gt = samples[target_type].to(device)\n",
    "                \n",
    "                scores = model(imgs)\n",
    "                scores = scores.view(-1).double()\n",
    "                loss = criterion(scores, gt)\n",
    "                scores[scores>0] = 1\n",
    "                scores[scores<=0] = 0\n",
    "                \n",
    "                val_acc += (scores == gt).sum().cpu().numpy()\n",
    "                val_loss += loss.item()*imgs.size(0)\n",
    "        \n",
    "            val_acc /= len(valset)\n",
    "            val_loss /= len(valset)\n",
    "            history['val_acc'].append(val_acc)\n",
    "            history['val_loss'].append(val_loss)\n",
    "            \n",
    "        if val_acc >= best_val_acc and val_loss < best_val_loss:\n",
    "            best_train_acc = train_acc\n",
    "            best_val_acc = val_acc\n",
    "            best_train_loss, best_val_loss = train_loss, val_loss\n",
    "            best_model = copy.deepcopy(model.state_dict())\n",
    "        \n",
    "        if verbose:\n",
    "            print(\"Epoch %d / %d train_loss %.4f train_acc %.4f val_loss %.4f val_acc %.4f\"\n",
    "                 %(epoch, epochs-1, train_loss, train_acc, val_loss, val_acc))\n",
    "    if verbose:\n",
    "        plt.figure()\n",
    "        plt.plot(history['train_loss'])\n",
    "        plt.plot(history['val_loss'])\n",
    "        plt.title('training loss')\n",
    "        plt.xlabel('epoch')\n",
    "        plt.ylabel('loss')\n",
    "        plt.legend(['training', 'validation'], loc='upper left')\n",
    "        \n",
    "        plt.figure()\n",
    "        plt.plot(history['train_acc'])\n",
    "        plt.plot(history['val_acc'])\n",
    "        plt.title('training accuracy')\n",
    "        plt.xlabel('epoch')\n",
    "        plt.ylabel('accuracy')\n",
    "        plt.legend(['training', 'validation'], loc='upper left')\n",
    "        plt.show()\n",
    "    \n",
    "    print(\"best training acc %.4f best training loss %.4f best val acc %.4f best val loss %.4f\"\n",
    "         %(best_train_acc, best_train_loss, best_val_acc, best_val_loss))\n",
    "    model.load_state_dict(best_model)\n",
    "    return model\n",
    "  \n",
    "\n",
    "def predict(model, target_type):\n",
    "    acc, loss = 0.0, 0.0\n",
    "    loader = DataLoader(dataset, batch_size=32, shuffle=True, num_workers=4)\n",
    "    model.eval()\n",
    "    with torch.no_grad():\n",
    "        for samples in loader:\n",
    "            imgs = samples['img'].to(device)\n",
    "            gt = samples[target_type].to(device)\n",
    "                \n",
    "            scores = model(imgs)\n",
    "            scores = scores.view(-1).double()\n",
    "            loss = criterion(scores, gt)\n",
    "            scores[scores>0] = 1\n",
    "            scores[scores<=0] = 0\n",
    "               \n",
    "            acc += (scores == gt).sum().cpu().numpy()\n",
    "            loss += loss.item()*imgs.size(0)\n",
    "            \n",
    "        acc = acc/len(dataset)\n",
    "        loss /= len(dataset)\n",
    "        print(\"total accuracy %.4f total loss %.4f\" % (acc, loss))\n",
    "        \n",
    "        if acc>0.9:\n",
    "            fname = target_type+'_acc_'+str(acc)+'_loss_'+str(float(loss))+'.pth'\n",
    "            torch.save(model.state_dict(), fname)"
   ]
  },
  {
   "cell_type": "markdown",
   "metadata": {
    "colab_type": "text",
    "id": "xxFXh4LVHSve"
   },
   "source": [
    "### 2.1.Grade预测模型训练"
   ]
  },
  {
   "cell_type": "code",
   "execution_count": 9,
   "metadata": {
    "colab": {
     "base_uri": "https://localhost:8080/",
     "height": 1509
    },
    "colab_type": "code",
    "executionInfo": {
     "elapsed": 1907522,
     "status": "ok",
     "timestamp": 1557746810740,
     "user": {
      "displayName": "张耿",
      "photoUrl": "",
      "userId": "17787706570393703878"
     },
     "user_tz": -480
    },
    "id": "tcheH9HMYRsx",
    "outputId": "4ea7de7b-7ef2-4528-e173-824222d38aea"
   },
   "outputs": [
    {
     "name": "stdout",
     "output_type": "stream",
     "text": [
      "Epoch 0 / 49 train_loss 0.6284 train_acc 0.6319 val_loss 0.6942 val_acc 0.4769\n",
      "Epoch 1 / 49 train_loss 0.4682 train_acc 0.7838 val_loss 0.3047 val_acc 0.8615\n",
      "Epoch 2 / 49 train_loss 0.3087 train_acc 0.8764 val_loss 0.3546 val_acc 0.8769\n",
      "Epoch 3 / 49 train_loss 0.2212 train_acc 0.9163 val_loss 0.2762 val_acc 0.8615\n",
      "Epoch 4 / 49 train_loss 0.1868 train_acc 0.9331 val_loss 0.1282 val_acc 0.9692\n",
      "Epoch 5 / 49 train_loss 0.1793 train_acc 0.9356 val_loss 0.0763 val_acc 0.9846\n",
      "Epoch 6 / 49 train_loss 0.1708 train_acc 0.9318 val_loss 0.3103 val_acc 0.8462\n",
      "Epoch 7 / 49 train_loss 0.1619 train_acc 0.9447 val_loss 0.2829 val_acc 0.8462\n",
      "Epoch 8 / 49 train_loss 0.1372 train_acc 0.9562 val_loss 0.2536 val_acc 0.9077\n",
      "Epoch 9 / 49 train_loss 0.0963 train_acc 0.9743 val_loss 0.0462 val_acc 1.0000\n",
      "Epoch 10 / 49 train_loss 0.0999 train_acc 0.9653 val_loss 0.1132 val_acc 0.9538\n",
      "Epoch 11 / 49 train_loss 0.1051 train_acc 0.9653 val_loss 0.2130 val_acc 0.8923\n",
      "Epoch 12 / 49 train_loss 0.0630 train_acc 0.9833 val_loss 0.0725 val_acc 0.9846\n",
      "Epoch 13 / 49 train_loss 0.0692 train_acc 0.9755 val_loss 0.0350 val_acc 1.0000\n",
      "Epoch 14 / 49 train_loss 0.0576 train_acc 0.9807 val_loss 0.1037 val_acc 0.9538\n",
      "Epoch 15 / 49 train_loss 0.0413 train_acc 0.9871 val_loss 0.0159 val_acc 1.0000\n",
      "Epoch 16 / 49 train_loss 0.0477 train_acc 0.9884 val_loss 0.1072 val_acc 0.9692\n",
      "Epoch 17 / 49 train_loss 0.0693 train_acc 0.9781 val_loss 0.1002 val_acc 0.9538\n",
      "Epoch 18 / 49 train_loss 0.1960 train_acc 0.9292 val_loss 0.1195 val_acc 0.9385\n",
      "Epoch 19 / 49 train_loss 0.1914 train_acc 0.9318 val_loss 0.1418 val_acc 0.9385\n",
      "Epoch 20 / 49 train_loss 0.1068 train_acc 0.9575 val_loss 0.1941 val_acc 0.9231\n",
      "Epoch 21 / 49 train_loss 0.0520 train_acc 0.9897 val_loss 0.0298 val_acc 1.0000\n",
      "Epoch 22 / 49 train_loss 0.0736 train_acc 0.9743 val_loss 0.1961 val_acc 0.9231\n",
      "Epoch 23 / 49 train_loss 0.0446 train_acc 0.9897 val_loss 0.0219 val_acc 1.0000\n",
      "Epoch 24 / 49 train_loss 0.0430 train_acc 0.9910 val_loss 0.0080 val_acc 1.0000\n",
      "Epoch 25 / 49 train_loss 0.0444 train_acc 0.9871 val_loss 0.0155 val_acc 1.0000\n",
      "Epoch 26 / 49 train_loss 0.0345 train_acc 0.9858 val_loss 0.0181 val_acc 1.0000\n",
      "Epoch 27 / 49 train_loss 0.0466 train_acc 0.9846 val_loss 0.1117 val_acc 0.9538\n",
      "Epoch 28 / 49 train_loss 0.0540 train_acc 0.9846 val_loss 0.0625 val_acc 0.9846\n",
      "Epoch 29 / 49 train_loss 0.0440 train_acc 0.9820 val_loss 0.0713 val_acc 0.9538\n",
      "Epoch 30 / 49 train_loss 0.0357 train_acc 0.9884 val_loss 0.0075 val_acc 1.0000\n",
      "Epoch 31 / 49 train_loss 0.0510 train_acc 0.9820 val_loss 0.0174 val_acc 1.0000\n",
      "Epoch 32 / 49 train_loss 0.0355 train_acc 0.9858 val_loss 0.0312 val_acc 0.9846\n",
      "Epoch 33 / 49 train_loss 0.0482 train_acc 0.9820 val_loss 0.0308 val_acc 0.9846\n",
      "Epoch 34 / 49 train_loss 0.0305 train_acc 0.9936 val_loss 0.0615 val_acc 0.9846\n",
      "Epoch 35 / 49 train_loss 0.0331 train_acc 0.9910 val_loss 0.0048 val_acc 1.0000\n",
      "Epoch 36 / 49 train_loss 0.0298 train_acc 0.9923 val_loss 0.0245 val_acc 0.9846\n",
      "Epoch 37 / 49 train_loss 0.0118 train_acc 0.9974 val_loss 0.0253 val_acc 0.9846\n",
      "Epoch 38 / 49 train_loss 0.0191 train_acc 0.9936 val_loss 0.0060 val_acc 1.0000\n",
      "Epoch 39 / 49 train_loss 0.0281 train_acc 0.9923 val_loss 0.0093 val_acc 1.0000\n",
      "Epoch 40 / 49 train_loss 0.0275 train_acc 0.9910 val_loss 0.0288 val_acc 0.9846\n",
      "Epoch 41 / 49 train_loss 0.0284 train_acc 0.9923 val_loss 0.0031 val_acc 1.0000\n",
      "Epoch 42 / 49 train_loss 0.0523 train_acc 0.9833 val_loss 0.1405 val_acc 0.9538\n",
      "Epoch 43 / 49 train_loss 0.0218 train_acc 0.9897 val_loss 0.0146 val_acc 1.0000\n",
      "Epoch 44 / 49 train_loss 0.0502 train_acc 0.9807 val_loss 0.0054 val_acc 1.0000\n",
      "Epoch 45 / 49 train_loss 0.0288 train_acc 0.9884 val_loss 0.0121 val_acc 1.0000\n",
      "Epoch 46 / 49 train_loss 0.0256 train_acc 0.9936 val_loss 0.0168 val_acc 1.0000\n",
      "Epoch 47 / 49 train_loss 0.0191 train_acc 0.9923 val_loss 0.0076 val_acc 1.0000\n",
      "Epoch 48 / 49 train_loss 0.0234 train_acc 0.9936 val_loss 0.0093 val_acc 1.0000\n",
      "Epoch 49 / 49 train_loss 0.0105 train_acc 1.0000 val_loss 0.0030 val_acc 1.0000\n"
     ]
    },
    {
     "data": {
      "image/png": "[encoded data removed]",
      "text/plain": [
       "<Figure size 432x288 with 1 Axes>"
      ]
     },
     "metadata": {
      "tags": []
     },
     "output_type": "display_data"
    },
    {
     "data": {
      "image/png": "[encoded data removed]",
      "text/plain": [
       "<Figure size 432x288 with 1 Axes>"
      ]
     },
     "metadata": {
      "tags": []
     },
     "output_type": "display_data"
    },
    {
     "name": "stdout",
     "output_type": "stream",
     "text": [
      "best training acc 1.0000 best training loss 0.0105 best val acc 1.0000 best val loss 0.0030\n",
      "total accuracy 1.0000 total loss 0.0000\n"
     ]
    }
   ],
   "source": [
    "torch.cuda.empty_cache()\n",
    "target_type = 'grade'\n",
    "\n",
    "grade_predictor = Net()\n",
    "grade_predictor.zero_grad()\n",
    "\n",
    "optimizer = optim.Adam(grade_predictor.parameters(), lr=0.0005, eps=1e-8)\n",
    "\n",
    "shuffle_mask = np.arange(len(dataset))\n",
    "np.random.shuffle(shuffle_mask)\n",
    "trainset = Subset(dataset, shuffle_mask[:731])\n",
    "valset = Subset(dataset, shuffle_mask[731:])\n",
    "\n",
    "train_loader = DataLoader(trainset, batch_size=32, shuffle=True, num_workers=4)\n",
    "val_loader = DataLoader(valset, batch_size=32, shuffle=False, num_workers=4)\n",
    "\n",
    "grade_predictor = train(grade_predictor, optimizer, 50, target_type, verbose=True)\n",
    "\n",
    "predict(grade_predictor, 'grade')"
   ]
  },
  {
   "cell_type": "markdown",
   "metadata": {
    "colab_type": "text",
    "id": "spZrErGTHa28"
   },
   "source": [
    "### 2.2.Stage预测模型（迁移）训练"
   ]
  },
  {
   "cell_type": "code",
   "execution_count": 10,
   "metadata": {
    "colab": {
     "base_uri": "https://localhost:8080/",
     "height": 1149
    },
    "colab_type": "code",
    "executionInfo": {
     "elapsed": 1206741,
     "status": "ok",
     "timestamp": 1557747928816,
     "user": {
      "displayName": "张耿",
      "photoUrl": "",
      "userId": "17787706570393703878"
     },
     "user_tz": -480
    },
    "id": "CaRgeL_hHaQt",
    "outputId": "f2dbb412-934c-424f-d63d-547fff6dde3d"
   },
   "outputs": [
    {
     "name": "stdout",
     "output_type": "stream",
     "text": [
      "Epoch 0 / 29 train_loss 2.3387 train_acc 0.6484 val_loss 1.4525 val_acc 0.6847\n",
      "Epoch 1 / 29 train_loss 1.0639 train_acc 0.7237 val_loss 0.5281 val_acc 0.7838\n",
      "Epoch 2 / 29 train_loss 0.5423 train_acc 0.8290 val_loss 0.3403 val_acc 0.8378\n",
      "Epoch 3 / 29 train_loss 0.3195 train_acc 0.8933 val_loss 0.2175 val_acc 0.9099\n",
      "Epoch 4 / 29 train_loss 0.1903 train_acc 0.9234 val_loss 0.1147 val_acc 0.9640\n",
      "Epoch 5 / 29 train_loss 0.1528 train_acc 0.9508 val_loss 0.1271 val_acc 0.9459\n",
      "Epoch 6 / 29 train_loss 0.1322 train_acc 0.9603 val_loss 0.1965 val_acc 0.9550\n",
      "Epoch 7 / 29 train_loss 0.0882 train_acc 0.9658 val_loss 0.0861 val_acc 0.9730\n",
      "Epoch 8 / 29 train_loss 0.0621 train_acc 0.9767 val_loss 0.0405 val_acc 0.9910\n",
      "Epoch 9 / 29 train_loss 0.0915 train_acc 0.9754 val_loss 0.0680 val_acc 0.9820\n",
      "Epoch 10 / 29 train_loss 0.0454 train_acc 0.9850 val_loss 0.0225 val_acc 0.9910\n",
      "Epoch 11 / 29 train_loss 0.0687 train_acc 0.9795 val_loss 0.0277 val_acc 0.9910\n",
      "Epoch 12 / 29 train_loss 0.0409 train_acc 0.9863 val_loss 0.0308 val_acc 0.9820\n",
      "Epoch 13 / 29 train_loss 0.0527 train_acc 0.9808 val_loss 0.0280 val_acc 0.9910\n",
      "Epoch 14 / 29 train_loss 0.0314 train_acc 0.9945 val_loss 0.0147 val_acc 1.0000\n",
      "Epoch 15 / 29 train_loss 0.0267 train_acc 0.9932 val_loss 0.0232 val_acc 0.9820\n",
      "Epoch 16 / 29 train_loss 0.0358 train_acc 0.9850 val_loss 0.0186 val_acc 1.0000\n",
      "Epoch 17 / 29 train_loss 0.0401 train_acc 0.9836 val_loss 0.0233 val_acc 0.9820\n",
      "Epoch 18 / 29 train_loss 0.0326 train_acc 0.9891 val_loss 0.0233 val_acc 0.9820\n",
      "Epoch 19 / 29 train_loss 0.0294 train_acc 0.9918 val_loss 0.0165 val_acc 0.9910\n",
      "Epoch 20 / 29 train_loss 0.0609 train_acc 0.9795 val_loss 0.0339 val_acc 0.9910\n",
      "Epoch 21 / 29 train_loss 0.0227 train_acc 0.9932 val_loss 0.0138 val_acc 0.9910\n",
      "Epoch 22 / 29 train_loss 0.0211 train_acc 0.9959 val_loss 0.0235 val_acc 0.9910\n",
      "Epoch 23 / 29 train_loss 0.0356 train_acc 0.9904 val_loss 0.0299 val_acc 0.9910\n",
      "Epoch 24 / 29 train_loss 0.0296 train_acc 0.9877 val_loss 0.0138 val_acc 1.0000\n",
      "Epoch 25 / 29 train_loss 0.0221 train_acc 0.9959 val_loss 0.0132 val_acc 0.9910\n",
      "Epoch 26 / 29 train_loss 0.0162 train_acc 0.9945 val_loss 0.0053 val_acc 1.0000\n",
      "Epoch 27 / 29 train_loss 0.0199 train_acc 0.9959 val_loss 0.0082 val_acc 1.0000\n",
      "Epoch 28 / 29 train_loss 0.0243 train_acc 0.9918 val_loss 0.0045 val_acc 1.0000\n",
      "Epoch 29 / 29 train_loss 0.0200 train_acc 0.9945 val_loss 0.0134 val_acc 0.9910\n"
     ]
    },
    {
     "data": {
      "image/png": "[encoded data removed]",
      "text/plain": [
       "<Figure size 432x288 with 1 Axes>"
      ]
     },
     "metadata": {
      "tags": []
     },
     "output_type": "display_data"
    },
    {
     "data": {
      "image/png": "[encoded data removed]",
      "text/plain": [
       "<Figure size 432x288 with 1 Axes>"
      ]
     },
     "metadata": {
      "tags": []
     },
     "output_type": "display_data"
    },
    {
     "name": "stdout",
     "output_type": "stream",
     "text": [
      "best training acc 0.9918 best training loss 0.0243 best val acc 1.0000 best val loss 0.0045\n",
      "total accuracy 0.9988 total loss 0.0000\n"
     ]
    }
   ],
   "source": [
    "target_type = 'stage'\n",
    "torch.cuda.empty_cache()\n",
    "\n",
    "stage_predictor = Net()\n",
    "if grade_predictor is not None:\n",
    "    stage_predictor.load_state_dict(grade_predictor.state_dict()) # transfer\n",
    "\n",
    "optimizer = optim.Adam(stage_predictor.parameters(), lr=0.0001, eps=1e-8)\n",
    "\n",
    "shuffle_mask = np.arange(len(dataset))\n",
    "np.random.shuffle(shuffle_mask)\n",
    "trainset = Subset(dataset, shuffle_mask[:731])\n",
    "valset = Subset(dataset, shuffle_mask[731:])    \n",
    "train_loader = DataLoader(trainset, batch_size=32, shuffle=True, num_workers=4)\n",
    "val_loader = DataLoader(valset, batch_size=32, shuffle=False, num_workers=4)\n",
    "\n",
    "stage_predictor = train(stage_predictor, optimizer, 30, 'stage', verbose=True)\n",
    "\n",
    "predict(stage_predictor, target_type)"
   ]
  },
  {
   "cell_type": "markdown",
   "metadata": {
    "colab_type": "text",
    "id": "XYwfUfLkH9Za"
   },
   "source": [
    "### 2.3.Stage预测模型（非迁移）训练"
   ]
  },
  {
   "cell_type": "code",
   "execution_count": 11,
   "metadata": {
    "colab": {
     "base_uri": "https://localhost:8080/",
     "height": 1149
    },
    "colab_type": "code",
    "executionInfo": {
     "elapsed": 2315118,
     "status": "ok",
     "timestamp": 1557749047822,
     "user": {
      "displayName": "张耿",
      "photoUrl": "",
      "userId": "17787706570393703878"
     },
     "user_tz": -480
    },
    "id": "lmEWAl4lH8wR",
    "outputId": "7c37f738-d335-4dcc-91e7-3ae0bf0870db"
   },
   "outputs": [
    {
     "name": "stdout",
     "output_type": "stream",
     "text": [
      "Epoch 0 / 29 train_loss 0.6611 train_acc 0.6115 val_loss 0.6932 val_acc 0.4955\n",
      "Epoch 1 / 29 train_loss 0.5474 train_acc 0.7674 val_loss 0.5703 val_acc 0.7387\n",
      "Epoch 2 / 29 train_loss 0.3933 train_acc 0.8851 val_loss 0.3403 val_acc 0.9459\n",
      "Epoch 3 / 29 train_loss 0.2931 train_acc 0.9124 val_loss 0.3014 val_acc 0.9459\n",
      "Epoch 4 / 29 train_loss 0.2447 train_acc 0.9302 val_loss 0.1837 val_acc 0.9730\n",
      "Epoch 5 / 29 train_loss 0.1996 train_acc 0.9576 val_loss 0.1472 val_acc 0.9820\n",
      "Epoch 6 / 29 train_loss 0.1603 train_acc 0.9699 val_loss 0.1382 val_acc 0.9820\n",
      "Epoch 7 / 29 train_loss 0.1401 train_acc 0.9713 val_loss 0.2106 val_acc 0.9640\n",
      "Epoch 8 / 29 train_loss 0.1616 train_acc 0.9576 val_loss 0.1105 val_acc 0.9820\n",
      "Epoch 9 / 29 train_loss 0.1188 train_acc 0.9767 val_loss 0.1088 val_acc 0.9730\n",
      "Epoch 10 / 29 train_loss 0.1142 train_acc 0.9713 val_loss 0.1395 val_acc 0.9550\n",
      "Epoch 11 / 29 train_loss 0.0969 train_acc 0.9808 val_loss 0.1220 val_acc 0.9820\n",
      "Epoch 12 / 29 train_loss 0.0833 train_acc 0.9863 val_loss 0.0670 val_acc 0.9910\n",
      "Epoch 13 / 29 train_loss 0.0743 train_acc 0.9863 val_loss 0.1272 val_acc 0.9730\n",
      "Epoch 14 / 29 train_loss 0.0711 train_acc 0.9891 val_loss 0.0601 val_acc 0.9910\n",
      "Epoch 15 / 29 train_loss 0.0676 train_acc 0.9904 val_loss 0.1914 val_acc 0.9459\n",
      "Epoch 16 / 29 train_loss 0.0771 train_acc 0.9795 val_loss 0.0763 val_acc 0.9730\n",
      "Epoch 17 / 29 train_loss 0.0753 train_acc 0.9795 val_loss 0.0829 val_acc 0.9820\n",
      "Epoch 18 / 29 train_loss 0.0797 train_acc 0.9822 val_loss 0.0704 val_acc 0.9820\n",
      "Epoch 19 / 29 train_loss 0.0672 train_acc 0.9808 val_loss 0.3159 val_acc 0.8288\n",
      "Epoch 20 / 29 train_loss 0.0583 train_acc 0.9863 val_loss 0.0764 val_acc 0.9730\n",
      "Epoch 21 / 29 train_loss 0.0595 train_acc 0.9836 val_loss 0.0972 val_acc 0.9730\n",
      "Epoch 22 / 29 train_loss 0.0666 train_acc 0.9822 val_loss 0.0641 val_acc 0.9820\n",
      "Epoch 23 / 29 train_loss 0.0540 train_acc 0.9850 val_loss 0.0868 val_acc 0.9730\n",
      "Epoch 24 / 29 train_loss 0.0419 train_acc 0.9904 val_loss 0.0437 val_acc 0.9910\n",
      "Epoch 25 / 29 train_loss 0.0449 train_acc 0.9932 val_loss 0.0580 val_acc 0.9730\n",
      "Epoch 26 / 29 train_loss 0.0310 train_acc 0.9959 val_loss 0.0814 val_acc 0.9820\n",
      "Epoch 27 / 29 train_loss 0.0538 train_acc 0.9877 val_loss 0.0578 val_acc 0.9910\n",
      "Epoch 28 / 29 train_loss 0.0553 train_acc 0.9822 val_loss 0.0496 val_acc 0.9910\n",
      "Epoch 29 / 29 train_loss 0.0484 train_acc 0.9863 val_loss 0.0220 val_acc 1.0000\n"
     ]
    },
    {
     "data": {
      "image/png": "[encoded data removed]",
      "text/plain": [
       "<Figure size 432x288 with 1 Axes>"
      ]
     },
     "metadata": {
      "tags": []
     },
     "output_type": "display_data"
    },
    {
     "data": {
      "image/png": "[encoded data removed]",
      "text/plain": [
       "<Figure size 432x288 with 1 Axes>"
      ]
     },
     "metadata": {
      "tags": []
     },
     "output_type": "display_data"
    },
    {
     "name": "stdout",
     "output_type": "stream",
     "text": [
      "best training acc 0.9863 best training loss 0.0484 best val acc 1.0000 best val loss 0.0220\n",
      "total accuracy 0.9988 total loss 0.0016\n"
     ]
    }
   ],
   "source": [
    "target_type = 'stage'\n",
    "torch.cuda.empty_cache()\n",
    "\n",
    "stage_predictor = Net()\n",
    "\n",
    "optimizer = optim.Adam(stage_predictor.parameters(), lr=0.0001, eps=1e-8)\n",
    "\n",
    "stage_predictor = train(stage_predictor, optimizer, 30, 'stage', verbose=True)\n",
    "\n",
    "predict(stage_predictor, target_type)"
   ]
  },
  {
   "cell_type": "code",
   "execution_count": 0,
   "metadata": {
    "colab": {},
    "colab_type": "code",
    "id": "zxkqwhenJkzE"
   },
   "outputs": [],
   "source": []
  }
 ],
 "metadata": {
  "accelerator": "GPU",
  "colab": {
   "collapsed_sections": [],
   "name": "Train.ipynb",
   "provenance": [],
   "version": "0.3.2"
  },
  "kernelspec": {
   "display_name": "Python 3",
   "language": "python",
   "name": "python3"
  },
  "language_info": {
   "codemirror_mode": {
    "name": "ipython",
    "version": 3
   },
   "file_extension": ".py",
   "mimetype": "text/x-python",
   "name": "python",
   "nbconvert_exporter": "python",
   "pygments_lexer": "ipython3",
   "version": "3.7.1"
  }
 },
 "nbformat": 4,
 "nbformat_minor": 1
}
