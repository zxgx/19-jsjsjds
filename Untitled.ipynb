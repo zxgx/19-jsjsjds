{
 "cells": [
  {
   "cell_type": "code",
   "execution_count": 1,
   "metadata": {},
   "outputs": [],
   "source": [
    "%load_ext autoreload\n",
    "%autoreload 2\n",
    "\n",
    "from implemention.utils.load import *\n",
    "\n",
    "X_train, y_train, X_val, y_val, X_test, y_test = load_train_data()\n",
    "test = load_test_data()\n"
   ]
  },
  {
   "cell_type": "code",
   "execution_count": 2,
   "metadata": {},
   "outputs": [
    {
     "name": "stderr",
     "output_type": "stream",
     "text": [
      "Using TensorFlow backend.\n"
     ]
    }
   ],
   "source": [
    "import keras\n",
    "\n",
    "batch_size = 256\n",
    "num_classes = 7\n",
    "epochs = 20\n",
    "num_predictions = 20\n",
    "\n",
    "tar_train, tar_val, tar_test = y_train, y_val, y_test\n",
    "y_train = keras.utils.to_categorical(y_train, num_classes)\n",
    "y_val = keras.utils.to_categorical(y_val, num_classes)\n",
    "y_test = keras.utils.to_categorical(y_test, num_classes)"
   ]
  },
  {
   "cell_type": "code",
   "execution_count": null,
   "metadata": {
    "scrolled": true
   },
   "outputs": [],
   "source": [
    "\n",
    "from keras.models import Sequential\n",
    "from keras.layers import Dense, Activation, Flatten, BatchNormalization, Dropout\n",
    "from keras.layers import Conv2D, MaxPooling2D\n",
    "from keras import regularizers\n",
    "\n",
    "model = Sequential()\n",
    "\n",
    "model.add(Conv2D(32, (3, 3), input_shape=(1, 48, 48),  padding='same', \n",
    "                 data_format='channels_first', kernel_regularizer=regularizers.l2(0.0001)))\n",
    "model.add(BatchNormalization(axis=1, momentum=0.99, epsilon=1e-5))\n",
    "model.add(Activation('relu'))\n",
    "model.add(Dropout(0.5))\n",
    "model.add(Conv2D(32, (3, 3), padding='same', data_format='channels_first', kernel_regularizer=regularizers.l2(0.0001)))\n",
    "model.add(BatchNormalization(axis=1, momentum=0.99, epsilon=1e-5))\n",
    "model.add(Activation('relu'))\n",
    "model.add(Dropout(0.5))\n",
    "model.add(MaxPooling2D(pool_size=(2, 2), data_format='channels_first'))\n",
    "\n",
    "model.add(Conv2D(32, (3, 3), padding='same', data_format='channels_first', kernel_regularizer=regularizers.l2(0.0001)))\n",
    "model.add(BatchNormalization(axis=1, momentum=0.99, epsilon=1e-5))\n",
    "model.add(Activation('relu'))\n",
    "model.add(Dropout(0.5))\n",
    "model.add(Conv2D(32, (3, 3), padding='same', data_format='channels_first', kernel_regularizer=regularizers.l2(0.0001)))\n",
    "model.add(BatchNormalization(axis=1, momentum=0.99, epsilon=1e-5))\n",
    "model.add(Activation('relu'))\n",
    "model.add(Dropout(0.5))\n",
    "model.add(MaxPooling2D(pool_size=(2, 2), data_format='channels_first'))\n",
    "\n",
    "model.add(Conv2D(32, (3, 3), padding='same', data_format='channels_first', kernel_regularizer=regularizers.l2(0.0001)))\n",
    "model.add(BatchNormalization(axis=1, momentum=0.99, epsilon=1e-5))\n",
    "model.add(Activation('relu'))\n",
    "model.add(Dropout(0.5))\n",
    "model.add(Conv2D(32, (3, 3), padding='same', data_format='channels_first', kernel_regularizer=regularizers.l2(0.0001)))\n",
    "model.add(BatchNormalization(axis=1, momentum=0.99, epsilon=1e-5))\n",
    "model.add(Activation('relu'))\n",
    "model.add(Dropout(0.5))\n",
    "model.add(MaxPooling2D(pool_size=(2, 2), data_format='channels_first'))\n",
    "\n",
    "model.add(Flatten())\n",
    "model.add(Dense(150, kernel_regularizer=regularizers.l2(0.0001)))\n",
    "model.add(BatchNormalization(axis=1, momentum=0.99, epsilon=1e-5))\n",
    "model.add(Activation('relu'))\n",
    "model.add(Dropout(0.5))\n",
    "model.add(Dense(150, kernel_regularizer=regularizers.l2(0.0001)))\n",
    "model.add(BatchNormalization(axis=1, momentum=0.99, epsilon=1e-5))\n",
    "model.add(Activation('relu'))\n",
    "model.add(Dropout(0.5))\n",
    "model.add(Dense(num_classes))\n",
    "\n",
    "model.add(Activation('softmax'))\n",
    "\n",
    "model.compile(loss='categorical_crossentropy', optimizer='adam', metrics=['accuracy'])\n",
    "model.fit(X_train, y_train, batch_size=batch_size, epochs=epochs, validation_data=(X_val, y_val), shuffle=False)\n",
    "\n",
    "scores = model.evaluate(X_test, y_test, verbose=1)\n",
    "print('Test loss:', scores[0])\n",
    "print('Test accuracy:', scores[1])"
   ]
  },
  {
   "cell_type": "code",
   "execution_count": null,
   "metadata": {},
   "outputs": [],
   "source": [
    "\"\"\"\n",
    "Test loss: 1.7406331374909016\n",
    "Test accuracy: 0.45529836483962677\n",
    "\n",
    "Test loss: 1.7557092982255924\n",
    "Test accuracy: 0.38203440220853685\n",
    "\n",
    "Test loss: 1.926879651279656\n",
    "Test accuracy: 0.523465703977448\n",
    "\n",
    "\"\"\""
   ]
  }
 ],
 "metadata": {
  "kernelspec": {
   "display_name": "py368_for_ml",
   "language": "python",
   "name": "py368"
  },
  "language_info": {
   "codemirror_mode": {
    "name": "ipython",
    "version": 3
   },
   "file_extension": ".py",
   "mimetype": "text/x-python",
   "name": "python",
   "nbconvert_exporter": "python",
   "pygments_lexer": "ipython3",
   "version": "3.6.8"
  }
 },
 "nbformat": 4,
 "nbformat_minor": 2
}
