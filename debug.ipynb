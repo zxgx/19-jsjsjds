{
 "cells": [
  {
   "cell_type": "markdown",
   "metadata": {},
   "source": [
    "## 0. Preprocess: load data and shuffle it for reliable performance"
   ]
  },
  {
   "cell_type": "code",
   "execution_count": 1,
   "metadata": {},
   "outputs": [
    {
     "name": "stdout",
     "output_type": "stream",
     "text": [
      "(478, 128, 128, 3)\n",
      "(478,)\n"
     ]
    }
   ],
   "source": [
    "from load import load_data\n",
    "\n",
    "x, y = load_data(rsize=128)\n",
    "\n",
    "print(x.shape)\n",
    "print(y.shape)\n",
    "\n",
    "num_classes = 4"
   ]
  },
  {
   "cell_type": "code",
   "execution_count": 2,
   "metadata": {},
   "outputs": [
    {
     "name": "stderr",
     "output_type": "stream",
     "text": [
      "Using TensorFlow backend.\n"
     ]
    }
   ],
   "source": [
    "from keras.models import Sequential\n",
    "from keras import optimizers\n",
    "from keras.layers import LocallyConnected2D, BatchNormalization, Conv2D, MaxPooling2D\n",
    "from keras.layers import LeakyReLU, Dense, Dropout, Flatten, Softmax\n",
    "from keras import regularizers\n",
    "from keras.utils import to_categorical\n",
    "\n",
    "import matplotlib.pyplot as plt\n",
    "\n",
    "import numpy as np"
   ]
  },
  {
   "cell_type": "markdown",
   "metadata": {},
   "source": [
    "## 1. LocallConnectedNet\n",
    "### the structure of the locally connected network\n",
    "======locally connected layers======  \n",
    "----(F, C, H, W)----S-next---params  \n",
    "L1: (16, 3, 11, 11) 3 40,   9318400  \n",
    "L2: (16, 16, 9, 9)  1 32,   21250048  \n",
    "L3: (16, 16, 9, 9)  1 24,   11953152  \n",
    "======fully connected layers========  \n",
    "F1: (24*24*16, 300)  \n",
    "F2: (300, 300)  \n",
    "F3: (300, 300)  \n",
    "======output layer==================  \n",
    "F:  (300, 4)\n",
    "softmax\n"
   ]
  },
  {
   "cell_type": "code",
   "execution_count": 3,
   "metadata": {},
   "outputs": [],
   "source": [
    "# kernel_regularizer=regularizers.l2(0.001)\n",
    "\n",
    "def LocallyConnectedNet():\n",
    "    model = Sequential()\n",
    "\n",
    "   # N, 3 ,128, 128\n",
    "    model.add(BatchNormalization(axis=1, input_shape=(128, 128, 3)))\n",
    "    model.add(LeakyReLU(alpha=0.05))\n",
    "    \n",
    "    model.add(LocallyConnected2D(16, 11, strides=(3, 3)))\n",
    "    model.add(BatchNormalization(axis=1))\n",
    "    model.add(LeakyReLU(alpha=0.05))\n",
    "\n",
    "    # N, 16, 40, 40\n",
    "    model.add(LocallyConnected2D(16, 9))\n",
    "    model.add(BatchNormalization(axis=1))\n",
    "    model.add(LeakyReLU(alpha=0.05))\n",
    "\n",
    "    # N, 16, 32, 32\n",
    "    model.add(LocallyConnected2D(16, 9))\n",
    "    model.add(BatchNormalization(axis=1))\n",
    "    model.add(LeakyReLU(alpha=0.05))\n",
    "    \n",
    "    # N, 16, 24, 24\n",
    "    model.add(Flatten())\n",
    "    \n",
    "    # N, 16*24*24\n",
    "    model.add(Dense(300))\n",
    "    model.add(BatchNormalization(axis=1))\n",
    "    model.add(LeakyReLU(alpha=0.05))\n",
    "    model.add(Dropout(0.5))\n",
    "\n",
    "    model.add(Dense(300))\n",
    "    model.add(BatchNormalization(axis=1))\n",
    "    model.add(LeakyReLU(alpha=0.05))\n",
    "    model.add(Dropout(0.5))\n",
    "\n",
    "    model.add(Dense(300))\n",
    "    model.add(BatchNormalization(axis=1))\n",
    "    model.add(LeakyReLU(alpha=0.05))\n",
    "    model.add(Dropout(0.5))\n",
    "    \n",
    "    model.add(Dense(num_classes))\n",
    "    model.add(Softmax())\n",
    "    \n",
    "    return model"
   ]
  },
  {
   "cell_type": "markdown",
   "metadata": {},
   "source": [
    "### sanity check\n",
    "overfitting on a small subset of training data to verify the sanity of the architecture"
   ]
  },
  {
   "cell_type": "code",
   "execution_count": 4,
   "metadata": {},
   "outputs": [],
   "source": [
    "# overfitting on small set of data\n",
    "\n",
    "x_pre, y_pre = x[:30], y[:30]\n",
    "y_pre = to_categorical(y_pre, num_classes)"
   ]
  },
  {
   "cell_type": "code",
   "execution_count": 5,
   "metadata": {},
   "outputs": [
    {
     "name": "stdout",
     "output_type": "stream",
     "text": [
      "WARNING:tensorflow:From D:\\Temp\\Anaconda\\envs\\py368\\lib\\site-packages\\tensorflow\\python\\framework\\op_def_library.py:263: colocate_with (from tensorflow.python.framework.ops) is deprecated and will be removed in a future version.\n",
      "Instructions for updating:\n",
      "Colocations handled automatically by placer.\n",
      "WARNING:tensorflow:From D:\\Temp\\Anaconda\\envs\\py368\\lib\\site-packages\\keras\\backend\\tensorflow_backend.py:3445: calling dropout (from tensorflow.python.ops.nn_ops) with keep_prob is deprecated and will be removed in a future version.\n",
      "Instructions for updating:\n",
      "Please use `rate` instead of `keep_prob`. Rate should be set to `rate = 1 - keep_prob`.\n",
      "WARNING:tensorflow:From D:\\Temp\\Anaconda\\envs\\py368\\lib\\site-packages\\tensorflow\\python\\ops\\math_ops.py:3066: to_int32 (from tensorflow.python.ops.math_ops) is deprecated and will be removed in a future version.\n",
      "Instructions for updating:\n",
      "Use tf.cast instead.\n",
      "Epoch 1/20\n",
      "30/30 [==============================] - 118s 4s/step - loss: 2.4451 - acc: 0.0667 \n",
      "Epoch 2/20\n",
      "30/30 [==============================] - 29s 983ms/step - loss: 1.6762 - acc: 0.3333\n",
      "Epoch 3/20\n",
      "30/30 [==============================] - 32s 1s/step - loss: 1.2360 - acc: 0.3667\n",
      "Epoch 4/20\n",
      "30/30 [==============================] - 31s 1s/step - loss: 0.9414 - acc: 0.6000\n",
      "Epoch 5/20\n",
      "30/30 [==============================] - 33s 1s/step - loss: 0.7275 - acc: 0.6667\n",
      "Epoch 6/20\n",
      "30/30 [==============================] - 31s 1s/step - loss: 0.4809 - acc: 0.9000\n",
      "Epoch 7/20\n",
      "30/30 [==============================] - 30s 1s/step - loss: 0.3188 - acc: 0.9333\n",
      "Epoch 8/20\n",
      "30/30 [==============================] - 33s 1s/step - loss: 0.2540 - acc: 0.9000\n",
      "Epoch 9/20\n",
      "30/30 [==============================] - 32s 1s/step - loss: 0.1085 - acc: 1.0000\n",
      "Epoch 10/20\n",
      "30/30 [==============================] - 34s 1s/step - loss: 0.0552 - acc: 1.0000\n",
      "Epoch 11/20\n",
      "30/30 [==============================] - 29s 983ms/step - loss: 0.0326 - acc: 1.0000\n",
      "Epoch 12/20\n",
      "30/30 [==============================] - 30s 993ms/step - loss: 0.0480 - acc: 1.0000\n",
      "Epoch 13/20\n",
      "30/30 [==============================] - 33s 1s/step - loss: 0.0567 - acc: 1.0000\n",
      "Epoch 14/20\n",
      "30/30 [==============================] - 33s 1s/step - loss: 0.0361 - acc: 1.0000\n",
      "Epoch 15/20\n",
      "30/30 [==============================] - 33s 1s/step - loss: 0.0365 - acc: 1.0000\n",
      "Epoch 16/20\n",
      "30/30 [==============================] - 31s 1s/step - loss: 0.0123 - acc: 1.0000\n",
      "Epoch 17/20\n",
      "30/30 [==============================] - 33s 1s/step - loss: 0.0110 - acc: 1.0000\n",
      "Epoch 18/20\n",
      "30/30 [==============================] - 32s 1s/step - loss: 0.0426 - acc: 1.0000\n",
      "Epoch 19/20\n",
      "30/30 [==============================] - 30s 991ms/step - loss: 0.0412 - acc: 1.0000\n",
      "Epoch 20/20\n",
      "30/30 [==============================] - 33s 1s/step - loss: 0.0393 - acc: 1.0000\n"
     ]
    },
    {
     "data": {
      "image/png": "[encoded data removed]",
      "text/plain": [
       "<Figure size 432x288 with 2 Axes>"
      ]
     },
     "metadata": {
      "needs_background": "light"
     },
     "output_type": "display_data"
    }
   ],
   "source": [
    "model = LocallyConnectedNet()\n",
    "optim = optimizers.Adam(lr=0.001)\n",
    "model.compile(loss='categorical_crossentropy', optimizer=optim, metrics=['accuracy'])\n",
    "hist = model.fit(x_pre, y_pre, batch_size=15, epochs=20, shuffle=True)\n",
    "\n",
    "plt.figure()\n",
    "plt.subplot(2,1,1)\n",
    "plt.plot(hist.history['acc'])\n",
    "plt.title('Model accuracy')\n",
    "plt.ylabel('Accuracy')\n",
    "plt.xlabel('Epoch')\n",
    "plt.legend(['Train'], loc='upper left')\n",
    "\n",
    "plt.subplot(2,1,2)\n",
    "plt.plot(hist.history['loss'])\n",
    "plt.title('Model loss')\n",
    "plt.ylabel('Loss')\n",
    "plt.xlabel('Epoch')\n",
    "plt.legend(['Train'], loc='upper left')\n",
    "plt.show()"
   ]
  },
  {
   "cell_type": "markdown",
   "metadata": {},
   "source": [
    "### cross validate the loss and accuracy of LocallConnectedNet\n",
    "Since the training dataset is very small, we use 4-fold cross validation to evaluate loss and accuracy of the model."
   ]
  },
  {
   "cell_type": "code",
   "execution_count": null,
   "metadata": {},
   "outputs": [
    {
     "name": "stdout",
     "output_type": "stream",
     "text": [
      "Train on 400 samples, validate on 78 samples\n",
      "Epoch 1/20\n",
      "400/400 [==============================] - 717s 2s/step - loss: 1.4336 - acc: 0.4325 - val_loss: 2.8109 - val_acc: 0.0385\n",
      "Epoch 2/20\n",
      "400/400 [==============================] - 665s 2s/step - loss: 1.1678 - acc: 0.5875 - val_loss: 4.7834 - val_acc: 0.0000e+00\n",
      "Epoch 3/20\n",
      "368/400 [==========================>...] - ETA: 54s - loss: 0.7082 - acc: 0.7201 "
     ]
    }
   ],
   "source": [
    "# split for cross validation\n",
    "delim = [400,]\n",
    "xs = np.split(x, delim)\n",
    "ys = np.split(y, delim)\n",
    "\n",
    "# validation\n",
    "loss, acc = 0, 0\n",
    "x_train = xs[0]\n",
    "x_val = xs[1]\n",
    "y_train = to_categorical(ys[0], num_classes)\n",
    "y_val = to_categorical(ys[1], num_classes)\n",
    "\n",
    "# establish model\n",
    "model = LocallyConnectedNet()\n",
    "    \n",
    "optim = optimizers.Adam(lr=0.001)\n",
    "model.compile(loss='categorical_crossentropy', optimizer=optim, metrics=['accuracy'])\n",
    "hist = model.fit(x_train, y_train, validation_data=(x_val, y_val), batch_size=16, epochs=20, shuffle=True)\n",
    "    \n",
    "plt.figure()\n",
    "plt.subplot(2,1,1)\n",
    "plt.plot(hist.history['acc'])\n",
    "plt.plot(hist.history['val_acc'])\n",
    "plt.title('Model accuracy')\n",
    "plt.ylabel('Accuracy')\n",
    "plt.xlabel('Epoch')\n",
    "plt.legend(['Train', 'Test'], loc='upper left')\n",
    "\n",
    "plt.subplot(2,1,2)\n",
    "plt.plot(hist.history['loss'])\n",
    "plt.plot(hist.history['val_loss'])\n",
    "plt.title('Model loss')\n",
    "plt.ylabel('Loss')\n",
    "plt.xlabel('Epoch')\n",
    "plt.legend(['Train', 'Test'], loc='upper left')\n",
    "plt.show()"
   ]
  },
  {
   "cell_type": "code",
   "execution_count": null,
   "metadata": {},
   "outputs": [],
   "source": []
  }
 ],
 "metadata": {
  "kernelspec": {
   "display_name": "py368_for_ml",
   "language": "python",
   "name": "py368"
  },
  "language_info": {
   "codemirror_mode": {
    "name": "ipython",
    "version": 3
   },
   "file_extension": ".py",
   "mimetype": "text/x-python",
   "name": "python",
   "nbconvert_exporter": "python",
   "pygments_lexer": "ipython3",
   "version": "3.6.8"
  }
 },
 "nbformat": 4,
 "nbformat_minor": 2
}
