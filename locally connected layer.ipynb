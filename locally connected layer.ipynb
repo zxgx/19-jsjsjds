{
 "cells": [
  {
   "cell_type": "markdown",
   "metadata": {},
   "source": [
    "## 0. Preprocess: load data and shuffle it for reliable performance"
   ]
  },
  {
   "cell_type": "code",
   "execution_count": 1,
   "metadata": {},
   "outputs": [
    {
     "name": "stdout",
     "output_type": "stream",
     "text": [
      "(478, 128, 128, 3)\n",
      "(478,)\n"
     ]
    }
   ],
   "source": [
    "# load data and shuffle it for stable performance\n",
    "from load import load_data\n",
    "\n",
    "x, y = load_data(rsize=128)\n",
    "\n",
    "print(x.shape)\n",
    "print(y.shape)\n",
    "\n",
    "num_classes = 4"
   ]
  },
  {
   "cell_type": "markdown",
   "metadata": {},
   "source": [
    "## 1. LocallConnectedNet\n",
    "### the structure of the locally connected network\n",
    "======locally connected layers======  \n",
    "----(F, C, H, W)----S-next---params  \n",
    "L1: (16, 3, 11, 11) 3 40,   9318400  \n",
    "L2: (16, 16, 9, 9)  1 32,   21250048  \n",
    "L3: (16, 16, 9, 9)  1 24,   11953152  \n",
    "======fully connected layers========  \n",
    "F1: (24*24*16, 300)  \n",
    "F2: (300, 300)  \n",
    "F3: (300, 300)  \n",
    "======output layer==================  \n",
    "F:  (300, 4)\n",
    "softmax\n"
   ]
  },
  {
   "cell_type": "code",
   "execution_count": 2,
   "metadata": {},
   "outputs": [
    {
     "name": "stderr",
     "output_type": "stream",
     "text": [
      "Using TensorFlow backend.\n"
     ]
    }
   ],
   "source": [
    "from keras.models import Sequential\n",
    "from keras import optimizers\n",
    "from keras.layers import LocallyConnected2D, BatchNormalization, Conv2D, MaxPooling2D\n",
    "from keras.layers import LeakyReLU, Dense, Dropout, Flatten, Softmax\n",
    "from keras import regularizers\n",
    "from keras.utils import to_categorical\n",
    "# kernel_regularizer=regularizers.l2(0.001)\n",
    "\n",
    "def LocallyConnectedNet():\n",
    "    model = Sequential()\n",
    "\n",
    "   # N, 3 ,128, 128\n",
    "    model.add(BatchNormalization(axis=1, input_shape=(128, 128, 3)))\n",
    "    model.add(LeakyReLU(alpha=0.05))\n",
    "    model.add(LocallyConnected2D(16, 11, strides=(3, 3)))\n",
    "    model.add(BatchNormalization(axis=1))\n",
    "    model.add(LeakyReLU(alpha=0.05))\n",
    "\n",
    "    # N, 16, 40, 40\n",
    "    model.add(LocallyConnected2D(16, 9))\n",
    "    model.add(BatchNormalization(axis=1))\n",
    "    model.add(LeakyReLU(alpha=0.05))\n",
    "\n",
    "    # N, 16, 32, 32\n",
    "    model.add(LocallyConnected2D(16, 9))\n",
    "    model.add(BatchNormalization(axis=1))\n",
    "    model.add(LeakyReLU(alpha=0.05))\n",
    "    \n",
    "    # N, 16, 24, 24\n",
    "    model.add(Flatten())\n",
    "    \n",
    "    # N, 16*24*24\n",
    "    model.add(Dense(300))\n",
    "    model.add(BatchNormalization(axis=1))\n",
    "    model.add(LeakyReLU(alpha=0.05))\n",
    "    model.add(Dropout(0.5))\n",
    "\n",
    "    model.add(Dense(300))\n",
    "    model.add(BatchNormalization(axis=1))\n",
    "    model.add(LeakyReLU(alpha=0.05))\n",
    "    model.add(Dropout(0.5))\n",
    "\n",
    "    model.add(Dense(300))\n",
    "    model.add(BatchNormalization(axis=1))\n",
    "    model.add(LeakyReLU(alpha=0.05))\n",
    "    model.add(Dropout(0.5))\n",
    "    \n",
    "    model.add(Dense(num_classes))\n",
    "    model.add(Softmax())\n",
    "    \n",
    "    return model"
   ]
  },
  {
   "cell_type": "markdown",
   "metadata": {},
   "source": [
    "### sanity check\n",
    "overfitting on a small subset of training data to verify the sanity of the architecture"
   ]
  },
  {
   "cell_type": "code",
   "execution_count": 3,
   "metadata": {},
   "outputs": [
    {
     "name": "stdout",
     "output_type": "stream",
     "text": [
      "WARNING:tensorflow:From D:\\Temp\\Anaconda\\envs\\py368\\lib\\site-packages\\tensorflow\\python\\framework\\op_def_library.py:263: colocate_with (from tensorflow.python.framework.ops) is deprecated and will be removed in a future version.\n",
      "Instructions for updating:\n",
      "Colocations handled automatically by placer.\n",
      "WARNING:tensorflow:From D:\\Temp\\Anaconda\\envs\\py368\\lib\\site-packages\\keras\\backend\\tensorflow_backend.py:3445: calling dropout (from tensorflow.python.ops.nn_ops) with keep_prob is deprecated and will be removed in a future version.\n",
      "Instructions for updating:\n",
      "Please use `rate` instead of `keep_prob`. Rate should be set to `rate = 1 - keep_prob`.\n",
      "WARNING:tensorflow:From D:\\Temp\\Anaconda\\envs\\py368\\lib\\site-packages\\tensorflow\\python\\ops\\math_ops.py:3066: to_int32 (from tensorflow.python.ops.math_ops) is deprecated and will be removed in a future version.\n",
      "Instructions for updating:\n",
      "Use tf.cast instead.\n",
      "Epoch 1/20\n",
      "30/30 [==============================] - 141s 5s/step - loss: 1.6142 - acc: 0.4333\n",
      "Epoch 2/20\n",
      "30/30 [==============================] - 36s 1s/step - loss: 1.2323 - acc: 0.5667\n",
      "Epoch 3/20\n",
      "30/30 [==============================] - 29s 958ms/step - loss: 0.5743 - acc: 0.8000\n",
      "Epoch 4/20\n",
      "30/30 [==============================] - 35s 1s/step - loss: 0.4353 - acc: 0.9000\n",
      "Epoch 5/20\n",
      "30/30 [==============================] - 31s 1s/step - loss: 0.1315 - acc: 1.0000\n",
      "Epoch 6/20\n",
      "30/30 [==============================] - 30s 1s/step - loss: 0.0948 - acc: 1.0000\n",
      "Epoch 7/20\n",
      "30/30 [==============================] - 32s 1s/step - loss: 0.1003 - acc: 1.0000\n",
      "Epoch 8/20\n",
      "30/30 [==============================] - 30s 1s/step - loss: 0.0669 - acc: 1.0000\n",
      "Epoch 9/20\n",
      "30/30 [==============================] - 31s 1s/step - loss: 0.0344 - acc: 1.0000\n",
      "Epoch 10/20\n",
      "30/30 [==============================] - 36s 1s/step - loss: 0.0892 - acc: 0.9667\n",
      "Epoch 11/20\n",
      "30/30 [==============================] - 30s 992ms/step - loss: 0.0174 - acc: 1.0000\n",
      "Epoch 12/20\n",
      "30/30 [==============================] - 35s 1s/step - loss: 0.0372 - acc: 1.0000\n",
      "Epoch 13/20\n",
      "30/30 [==============================] - 34s 1s/step - loss: 0.0130 - acc: 1.0000\n",
      "Epoch 14/20\n",
      "30/30 [==============================] - 34s 1s/step - loss: 0.1250 - acc: 0.9667\n",
      "Epoch 15/20\n",
      "30/30 [==============================] - 33s 1s/step - loss: 0.0153 - acc: 1.0000\n",
      "Epoch 16/20\n",
      "30/30 [==============================] - 33s 1s/step - loss: 0.0072 - acc: 1.0000\n",
      "Epoch 17/20\n",
      "30/30 [==============================] - 34s 1s/step - loss: 0.0080 - acc: 1.0000\n",
      "Epoch 18/20\n",
      "30/30 [==============================] - 33s 1s/step - loss: 0.0073 - acc: 1.0000\n",
      "Epoch 19/20\n",
      "30/30 [==============================] - 36s 1s/step - loss: 0.0065 - acc: 1.0000\n",
      "Epoch 20/20\n",
      "30/30 [==============================] - 35s 1s/step - loss: 0.0205 - acc: 1.0000\n"
     ]
    }
   ],
   "source": [
    "# overfitting on small set of data\n",
    "import matplotlib.pyplot as plt\n",
    "\n",
    "x_pre, y_pre = x[:30], y[:30]\n",
    "y_pre = to_categorical(y_pre, num_classes)\n",
    "\n",
    "model = LocallyConnectedNet()\n",
    "optim = optimizers.Adam(lr=0.001)\n",
    "model.compile(loss='categorical_crossentropy', optimizer=optim, metrics=['accuracy'])\n",
    "hist = model.fit(x_pre, y_pre, batch_size=15, epochs=20, shuffle=True)\n"
   ]
  },
  {
   "cell_type": "code",
   "execution_count": 4,
   "metadata": {},
   "outputs": [
    {
     "data": {
      "image/png": "[encoded data removed]",
      "text/plain": [
       "<Figure size 432x288 with 2 Axes>"
      ]
     },
     "metadata": {
      "needs_background": "light"
     },
     "output_type": "display_data"
    }
   ],
   "source": [
    "plt.figure()\n",
    "plt.subplot(2,1,1)\n",
    "plt.plot(hist.history['acc'])\n",
    "#plt.plot(hist.history['val_acc'])\n",
    "plt.title('Model accuracy')\n",
    "plt.ylabel('Accuracy')\n",
    "plt.xlabel('Epoch')\n",
    "plt.legend(['Train'], loc='upper left')\n",
    "\n",
    "plt.subplot(2,1,2)\n",
    "plt.plot(hist.history['loss'])\n",
    "#plt.plot(hist.history['val_loss'])\n",
    "plt.title('Model loss')\n",
    "plt.ylabel('Loss')\n",
    "plt.xlabel('Epoch')\n",
    "plt.legend(['Train'], loc='upper left')\n",
    "plt.show()"
   ]
  },
  {
   "cell_type": "markdown",
   "metadata": {},
   "source": [
    "### cross validate the loss and accuracy of LocallConnectedNet\n",
    "Since the training dataset is very small, we use 4-fold cross validation to evaluate loss and accuracy of the model."
   ]
  },
  {
   "cell_type": "code",
   "execution_count": 5,
   "metadata": {},
   "outputs": [
    {
     "name": "stdout",
     "output_type": "stream",
     "text": [
      "====== Cross validation step 1 ======\n",
      "WARNING:tensorflow:From D:\\Temp\\Anaconda\\envs\\py368\\lib\\site-packages\\tensorflow\\python\\framework\\op_def_library.py:263: colocate_with (from tensorflow.python.framework.ops) is deprecated and will be removed in a future version.\n",
      "Instructions for updating:\n",
      "Colocations handled automatically by placer.\n",
      "WARNING:tensorflow:From D:\\Temp\\Anaconda\\envs\\py368\\lib\\site-packages\\keras\\backend\\tensorflow_backend.py:3445: calling dropout (from tensorflow.python.ops.nn_ops) with keep_prob is deprecated and will be removed in a future version.\n",
      "Instructions for updating:\n",
      "Please use `rate` instead of `keep_prob`. Rate should be set to `rate = 1 - keep_prob`.\n",
      "WARNING:tensorflow:From D:\\Temp\\Anaconda\\envs\\py368\\lib\\site-packages\\tensorflow\\python\\ops\\math_ops.py:3066: to_int32 (from tensorflow.python.ops.math_ops) is deprecated and will be removed in a future version.\n",
      "Instructions for updating:\n",
      "Use tf.cast instead.\n",
      "Train on 358 samples, validate on 120 samples\n",
      "Epoch 1/20\n",
      "358/358 [==============================] - 529s 1s/step - loss: 1.7030 - acc: 0.3128 - val_loss: 4.6163 - val_acc: 0.3000\n",
      "Epoch 2/20\n",
      "358/358 [==============================] - 388s 1s/step - loss: 1.3079 - acc: 0.4693 - val_loss: 2.6090 - val_acc: 0.2083\n",
      "Epoch 3/20\n",
      "358/358 [==============================] - 385s 1s/step - loss: 1.0855 - acc: 0.5419 - val_loss: 1.9848 - val_acc: 0.3250\n",
      "Epoch 4/20\n",
      "358/358 [==============================] - 382s 1s/step - loss: 0.6716 - acc: 0.7291 - val_loss: 2.1937 - val_acc: 0.3083\n",
      "Epoch 5/20\n",
      "358/358 [==============================] - 386s 1s/step - loss: 0.2840 - acc: 0.9106 - val_loss: 3.3964 - val_acc: 0.3000\n",
      "Epoch 6/20\n",
      "358/358 [==============================] - 392s 1s/step - loss: 0.2024 - acc: 0.9330 - val_loss: 2.4460 - val_acc: 0.4500\n",
      "Epoch 7/20\n",
      "358/358 [==============================] - 394s 1s/step - loss: 0.0880 - acc: 0.9804 - val_loss: 3.3354 - val_acc: 0.5500\n",
      "Epoch 8/20\n",
      "358/358 [==============================] - 388s 1s/step - loss: 0.0644 - acc: 0.9888 - val_loss: 3.1645 - val_acc: 0.5250\n",
      "Epoch 9/20\n",
      "358/358 [==============================] - 421s 1s/step - loss: 0.0486 - acc: 0.9916 - val_loss: 4.5240 - val_acc: 0.5333\n",
      "Epoch 10/20\n",
      "358/358 [==============================] - 449s 1s/step - loss: 0.0495 - acc: 0.9888 - val_loss: 2.2667 - val_acc: 0.2083\n",
      "Epoch 11/20\n",
      "358/358 [==============================] - 442s 1s/step - loss: 0.0537 - acc: 0.9860 - val_loss: 2.8420 - val_acc: 0.4917\n",
      "Epoch 12/20\n",
      "358/358 [==============================] - 405s 1s/step - loss: 0.0696 - acc: 0.9804 - val_loss: 2.3017 - val_acc: 0.4750\n",
      "Epoch 13/20\n",
      "358/358 [==============================] - 393s 1s/step - loss: 0.0530 - acc: 0.9860 - val_loss: 3.8194 - val_acc: 0.1667\n",
      "Epoch 14/20\n",
      "358/358 [==============================] - 391s 1s/step - loss: 0.0585 - acc: 0.9804 - val_loss: 3.6500 - val_acc: 0.1667\n",
      "Epoch 15/20\n",
      "358/358 [==============================] - 455s 1s/step - loss: 0.0535 - acc: 0.9777 - val_loss: 3.6990 - val_acc: 0.4250\n",
      "Epoch 16/20\n",
      "358/358 [==============================] - 443s 1s/step - loss: 0.0377 - acc: 0.9832 - val_loss: 3.0341 - val_acc: 0.3250\n",
      "Epoch 17/20\n",
      "358/358 [==============================] - 439s 1s/step - loss: 0.0430 - acc: 0.9944 - val_loss: 3.9481 - val_acc: 0.5083\n",
      "Epoch 18/20\n",
      "358/358 [==============================] - 462s 1s/step - loss: 0.0407 - acc: 0.9860 - val_loss: 5.2365 - val_acc: 0.2000\n",
      "Epoch 19/20\n",
      "358/358 [==============================] - 453s 1s/step - loss: 0.0432 - acc: 0.9888 - val_loss: 4.3053 - val_acc: 0.2167\n",
      "Epoch 20/20\n",
      "358/358 [==============================] - 441s 1s/step - loss: 0.0771 - acc: 0.9832 - val_loss: 3.2053 - val_acc: 0.4417\n"
     ]
    },
    {
     "ename": "NameError",
     "evalue": "name 'plt' is not defined",
     "output_type": "error",
     "traceback": [
      "\u001b[1;31m---------------------------------------------------------------------------\u001b[0m",
      "\u001b[1;31mNameError\u001b[0m                                 Traceback (most recent call last)",
      "\u001b[1;32m<ipython-input-5-aeaef2214e8a>\u001b[0m in \u001b[0;36m<module>\u001b[1;34m\u001b[0m\n\u001b[0;32m     22\u001b[0m     \u001b[0mhist\u001b[0m \u001b[1;33m=\u001b[0m \u001b[0mmodel\u001b[0m\u001b[1;33m.\u001b[0m\u001b[0mfit\u001b[0m\u001b[1;33m(\u001b[0m\u001b[0mx_train\u001b[0m\u001b[1;33m,\u001b[0m \u001b[0my_train\u001b[0m\u001b[1;33m,\u001b[0m \u001b[0mvalidation_data\u001b[0m\u001b[1;33m=\u001b[0m\u001b[1;33m(\u001b[0m\u001b[0mx_val\u001b[0m\u001b[1;33m,\u001b[0m \u001b[0my_val\u001b[0m\u001b[1;33m)\u001b[0m\u001b[1;33m,\u001b[0m \u001b[0mbatch_size\u001b[0m\u001b[1;33m=\u001b[0m\u001b[1;36m16\u001b[0m\u001b[1;33m,\u001b[0m \u001b[0mepochs\u001b[0m\u001b[1;33m=\u001b[0m\u001b[1;36m20\u001b[0m\u001b[1;33m,\u001b[0m \u001b[0mshuffle\u001b[0m\u001b[1;33m=\u001b[0m\u001b[1;32mTrue\u001b[0m\u001b[1;33m)\u001b[0m\u001b[1;33m\u001b[0m\u001b[1;33m\u001b[0m\u001b[0m\n\u001b[0;32m     23\u001b[0m \u001b[1;33m\u001b[0m\u001b[0m\n\u001b[1;32m---> 24\u001b[1;33m     \u001b[0mplt\u001b[0m\u001b[1;33m.\u001b[0m\u001b[0mfigure\u001b[0m\u001b[1;33m(\u001b[0m\u001b[1;33m)\u001b[0m\u001b[1;33m\u001b[0m\u001b[1;33m\u001b[0m\u001b[0m\n\u001b[0m\u001b[0;32m     25\u001b[0m     \u001b[0mplt\u001b[0m\u001b[1;33m.\u001b[0m\u001b[0msubplot\u001b[0m\u001b[1;33m(\u001b[0m\u001b[1;36m1\u001b[0m\u001b[1;33m,\u001b[0m\u001b[1;36m2\u001b[0m\u001b[1;33m,\u001b[0m\u001b[1;36m1\u001b[0m\u001b[1;33m)\u001b[0m\u001b[1;33m\u001b[0m\u001b[1;33m\u001b[0m\u001b[0m\n\u001b[0;32m     26\u001b[0m     \u001b[0mplt\u001b[0m\u001b[1;33m.\u001b[0m\u001b[0mplot\u001b[0m\u001b[1;33m(\u001b[0m\u001b[0mhist\u001b[0m\u001b[1;33m.\u001b[0m\u001b[0mhistory\u001b[0m\u001b[1;33m[\u001b[0m\u001b[1;34m'acc'\u001b[0m\u001b[1;33m]\u001b[0m\u001b[1;33m)\u001b[0m\u001b[1;33m\u001b[0m\u001b[1;33m\u001b[0m\u001b[0m\n",
      "\u001b[1;31mNameError\u001b[0m: name 'plt' is not defined"
     ]
    }
   ],
   "source": [
    "import numpy as np\n",
    "\n",
    "# split for cross validation\n",
    "delim = [120, 240, 360]\n",
    "xs = np.split(x, delim)\n",
    "ys = np.split(y, delim)\n",
    "\n",
    "# validation\n",
    "loss, acc = 0, 0\n",
    "for vali in range(num_classes):\n",
    "    print(\"====== Cross validation step %d ======\"%(vali+1))\n",
    "    x_train = np.vstack([xs[i] for i in range(num_classes) if i != vali])\n",
    "    x_val = xs[vali]\n",
    "    y_train = to_categorical(np.hstack([ys[i] for i in range(num_classes) if i != vali]), num_classes)\n",
    "    y_val = to_categorical(ys[vali], num_classes)\n",
    "    \n",
    "    # establish model\n",
    "    model = LocallyConnectedNet()\n",
    "    \n",
    "    optim = optimizers.Adam(lr=0.001)\n",
    "    model.compile(loss='categorical_crossentropy', optimizer=optim, metrics=['accuracy'])\n",
    "    hist = model.fit(x_train, y_train, validation_data=(x_val, y_val), batch_size=16, epochs=20, shuffle=True)\n",
    "    \n",
    "    plt.figure()\n",
    "    plt.subplot(1,2,1)\n",
    "    plt.plot(hist.history['acc'])\n",
    "    plt.plot(hist.history['val_acc'])\n",
    "    plt.title('Model accuracy')\n",
    "    plt.ylabel('Accuracy')\n",
    "    plt.xlabel('Epoch')\n",
    "    plt.legend(['Train', 'Test'], loc='upper left')\n",
    "\n",
    "    plt.subplot(1,2,2)\n",
    "    plt.plot(hist.history['loss'])\n",
    "    plt.plot(hist.history['val_loss'])\n",
    "    plt.title('Model loss')\n",
    "    plt.ylabel('Loss')\n",
    "    plt.xlabel('Epoch')\n",
    "    plt.legend(['Train', 'Test'], loc='upper left')\n",
    "    plt.show()\n",
    "    \n",
    "    loss += hist.history['val_acc'][-1]\n",
    "    acc += hist.history['val_loss'][-1]\n",
    "\n",
    "print(\"average loss: %f\"%(loss/num_classes))\n",
    "print(\"average accuracy: %f\"%(acc/num_classes))"
   ]
  },
  {
   "cell_type": "code",
   "execution_count": 8,
   "metadata": {},
   "outputs": [
    {
     "data": {
      "image/png": "[encoded data removed]",
      "text/plain": [
       "<Figure size 432x288 with 2 Axes>"
      ]
     },
     "metadata": {
      "needs_background": "light"
     },
     "output_type": "display_data"
    }
   ],
   "source": [
    "import matplotlib.pylab as plt\n",
    "\n",
    "plt.figure()\n",
    "plt.subplot(2,1,1)\n",
    "plt.plot(hist.history['acc'])\n",
    "plt.plot(hist.history['val_acc'])\n",
    "plt.title('Model accuracy')\n",
    "plt.ylabel('Accuracy')\n",
    "plt.xlabel('Epoch')\n",
    "plt.legend(['Train', 'Test'], loc='upper left')\n",
    "\n",
    "plt.subplot(2,1,2)\n",
    "plt.plot(hist.history['loss'])\n",
    "plt.plot(hist.history['val_loss'])\n",
    "plt.title('Model loss')\n",
    "plt.ylabel('Loss')\n",
    "plt.xlabel('Epoch')\n",
    "plt.legend(['Train', 'Test'], loc='upper left')\n",
    "plt.show()"
   ]
  },
  {
   "cell_type": "markdown",
   "metadata": {},
   "source": [
    "## 2. VanillaNeuralNet\n",
    "VanillaNeuralNet is an instance of fully connected neural network, and the definition of its structure is as follows:"
   ]
  },
  {
   "cell_type": "code",
   "execution_count": 16,
   "metadata": {},
   "outputs": [],
   "source": [
    "def VanillaNeuralNet():\n",
    "    model = Sequential()\n",
    "    \n",
    "    model.add(Flatten())\n",
    "    \n",
    "    model.add(BatchNormalization(axis=1, input_shape=(128*128*3,)))\n",
    "    model.add(LeakyReLU(0.05))\n",
    "    \n",
    "    model.add(Dense(1024))\n",
    "    model.add(BatchNormalization(axis=1))\n",
    "    model.add(LeakyReLU(0.05))\n",
    "    model.add(Dropout(0.5))\n",
    "    \n",
    "    model.add(Dense(1024))\n",
    "    model.add(BatchNormalization(axis=1))\n",
    "    model.add(LeakyReLU(0.05))\n",
    "    model.add(Dropout(0.5))\n",
    "    \n",
    "    model.add(Dense(1024))\n",
    "    model.add(BatchNormalization(axis=1))\n",
    "    model.add(LeakyReLU(0.05))\n",
    "    model.add(Dropout(0.05))\n",
    "    \n",
    "    model.add(Dense(1024))\n",
    "    model.add(BatchNormalization(axis=1))\n",
    "    model.add(LeakyReLU(0.05))\n",
    "    model.add(Dropout(0.5))\n",
    "    \n",
    "    model.add(Dense(512))\n",
    "    model.add(BatchNormalization(axis=1))\n",
    "    model.add(LeakyReLU(0.05))\n",
    "    model.add(Dropout(0.05))\n",
    "    \n",
    "    model.add(Dense(128))\n",
    "    model.add(BatchNormalization(axis=1))\n",
    "    model.add(LeakyReLU(0.05))\n",
    "    model.add(Dropout(0.05))\n",
    "    \n",
    "    model.add(Dense(num_classes))\n",
    "    model.add(Softmax())\n",
    "    \n",
    "    return model"
   ]
  },
  {
   "cell_type": "markdown",
   "metadata": {},
   "source": [
    "### Sanity check\n",
    "overfitting on the same subset of training data for the sanity check of VanillaNeuralNet"
   ]
  },
  {
   "cell_type": "code",
   "execution_count": 17,
   "metadata": {},
   "outputs": [
    {
     "name": "stdout",
     "output_type": "stream",
     "text": [
      "Epoch 1/20\n",
      "30/30 [==============================] - 32s 1s/step - loss: 1.3943 - acc: 0.2333\n",
      "Epoch 2/20\n",
      "30/30 [==============================] - 2s 69ms/step - loss: 0.7214 - acc: 0.7667\n",
      "Epoch 3/20\n",
      "30/30 [==============================] - 2s 66ms/step - loss: 0.3406 - acc: 0.9667\n",
      "Epoch 4/20\n",
      "30/30 [==============================] - 2s 63ms/step - loss: 0.1835 - acc: 1.0000\n",
      "Epoch 5/20\n",
      "30/30 [==============================] - 2s 71ms/step - loss: 0.1511 - acc: 1.0000\n",
      "Epoch 6/20\n",
      "30/30 [==============================] - 2s 65ms/step - loss: 0.0596 - acc: 1.0000\n",
      "Epoch 7/20\n",
      "30/30 [==============================] - 2s 60ms/step - loss: 0.1045 - acc: 0.9667\n",
      "Epoch 8/20\n",
      "30/30 [==============================] - 2s 61ms/step - loss: 0.0522 - acc: 1.0000\n",
      "Epoch 9/20\n",
      "30/30 [==============================] - 2s 68ms/step - loss: 0.0314 - acc: 1.0000\n",
      "Epoch 10/20\n",
      "30/30 [==============================] - 2s 63ms/step - loss: 0.0270 - acc: 1.0000\n",
      "Epoch 11/20\n",
      "30/30 [==============================] - 2s 63ms/step - loss: 0.0412 - acc: 1.0000\n",
      "Epoch 12/20\n",
      "30/30 [==============================] - 2s 63ms/step - loss: 0.0186 - acc: 1.0000\n",
      "Epoch 13/20\n",
      "30/30 [==============================] - 2s 67ms/step - loss: 0.0150 - acc: 1.0000\n",
      "Epoch 14/20\n",
      "30/30 [==============================] - 2s 66ms/step - loss: 0.0261 - acc: 1.0000\n",
      "Epoch 15/20\n",
      "30/30 [==============================] - 2s 68ms/step - loss: 0.0205 - acc: 1.0000\n",
      "Epoch 16/20\n",
      "30/30 [==============================] - 2s 63ms/step - loss: 0.0611 - acc: 1.0000\n",
      "Epoch 17/20\n",
      "30/30 [==============================] - 2s 61ms/step - loss: 0.0113 - acc: 1.0000\n",
      "Epoch 18/20\n",
      "30/30 [==============================] - 2s 62ms/step - loss: 0.0108 - acc: 1.0000\n",
      "Epoch 19/20\n",
      "30/30 [==============================] - 2s 62ms/step - loss: 0.0162 - acc: 1.0000\n",
      "Epoch 20/20\n",
      "30/30 [==============================] - 2s 63ms/step - loss: 0.0109 - acc: 1.0000\n"
     ]
    },
    {
     "data": {
      "image/png": "[encoded data removed]",
      "text/plain": [
       "<Figure size 432x288 with 2 Axes>"
      ]
     },
     "metadata": {
      "needs_background": "light"
     },
     "output_type": "display_data"
    }
   ],
   "source": [
    "model = VanillaNeuralNet()\n",
    "optim = optimizers.Adam(lr=0.001)\n",
    "model.compile(loss='categorical_crossentropy', optimizer=optim, metrics=['accuracy'])\n",
    "hist = model.fit(x_pre, y_pre, batch_size=15, epochs=20, shuffle=True)\n",
    "\n",
    "plt.figure()\n",
    "plt.subplot(2,1,1)\n",
    "plt.plot(hist.history['acc'])\n",
    "#plt.plot(hist.history['val_acc'])\n",
    "plt.title('Model accuracy')\n",
    "plt.ylabel('Accuracy')\n",
    "plt.xlabel('Epoch')\n",
    "plt.legend(['Train'], loc='upper left')\n",
    "\n",
    "plt.subplot(2,1,2)\n",
    "plt.plot(hist.history['loss'])\n",
    "#plt.plot(hist.history['val_loss'])\n",
    "plt.title('Model loss')\n",
    "plt.ylabel('Loss')\n",
    "plt.xlabel('Epoch')\n",
    "plt.legend(['Train'], loc='upper left')\n",
    "plt.show()"
   ]
  },
  {
   "cell_type": "markdown",
   "metadata": {},
   "source": [
    "### Training\n",
    "For the sake of efficiency, we just split the dataset into 2 parts instead of cross validation. First part is training data, which holds pixels of 360 images, while the validation set has 118 images.  \n",
    "We will do the same in the training cell for the following comparation."
   ]
  },
  {
   "cell_type": "code",
   "execution_count": 18,
   "metadata": {},
   "outputs": [
    {
     "name": "stdout",
     "output_type": "stream",
     "text": [
      "Train on 360 samples, validate on 118 samples\n",
      "Epoch 1/20\n",
      "360/360 [==============================] - 52s 145ms/step - loss: 1.1183 - acc: 0.5528 - val_loss: 4.7588 - val_acc: 0.1610\n",
      "Epoch 2/20\n",
      "360/360 [==============================] - 22s 60ms/step - loss: 0.5164 - acc: 0.8028 - val_loss: 4.6776 - val_acc: 0.0847\n",
      "Epoch 3/20\n",
      "360/360 [==============================] - 21s 59ms/step - loss: 0.3492 - acc: 0.8750 - val_loss: 7.0111 - val_acc: 0.2542\n",
      "Epoch 4/20\n",
      "360/360 [==============================] - 21s 59ms/step - loss: 0.2135 - acc: 0.9194 - val_loss: 6.9737 - val_acc: 0.0763\n",
      "Epoch 5/20\n",
      "360/360 [==============================] - 21s 59ms/step - loss: 0.2787 - acc: 0.9056 - val_loss: 5.8663 - val_acc: 0.2542\n",
      "Epoch 6/20\n",
      "360/360 [==============================] - 21s 59ms/step - loss: 0.1750 - acc: 0.9389 - val_loss: 6.7501 - val_acc: 0.2542\n",
      "Epoch 7/20\n",
      "360/360 [==============================] - 21s 58ms/step - loss: 0.1297 - acc: 0.9667 - val_loss: 6.1960 - val_acc: 0.0508\n",
      "Epoch 8/20\n",
      "360/360 [==============================] - 21s 59ms/step - loss: 0.2062 - acc: 0.9417 - val_loss: 5.3894 - val_acc: 0.2542\n",
      "Epoch 9/20\n",
      "360/360 [==============================] - 23s 65ms/step - loss: 0.1022 - acc: 0.9667 - val_loss: 5.4369 - val_acc: 0.1102\n",
      "Epoch 10/20\n",
      "360/360 [==============================] - 27s 76ms/step - loss: 0.0655 - acc: 0.9806 - val_loss: 6.3486 - val_acc: 0.0000e+00\n",
      "Epoch 11/20\n",
      "360/360 [==============================] - 23s 65ms/step - loss: 0.0942 - acc: 0.9694 - val_loss: 6.8308 - val_acc: 0.2458\n",
      "Epoch 12/20\n",
      "360/360 [==============================] - 23s 63ms/step - loss: 0.1047 - acc: 0.9722 - val_loss: 7.0937 - val_acc: 0.2542\n",
      "Epoch 13/20\n",
      "360/360 [==============================] - 23s 63ms/step - loss: 0.0686 - acc: 0.9778 - val_loss: 6.8266 - val_acc: 0.2542\n",
      "Epoch 14/20\n",
      "360/360 [==============================] - 25s 69ms/step - loss: 0.0892 - acc: 0.9722 - val_loss: 6.8618 - val_acc: 0.2542\n",
      "Epoch 15/20\n",
      "360/360 [==============================] - 26s 72ms/step - loss: 0.0899 - acc: 0.9778 - val_loss: 6.5777 - val_acc: 0.1356\n",
      "Epoch 16/20\n",
      "360/360 [==============================] - 29s 79ms/step - loss: 0.0717 - acc: 0.9806 - val_loss: 6.7945 - val_acc: 0.1864\n",
      "Epoch 17/20\n",
      "360/360 [==============================] - 27s 76ms/step - loss: 0.0996 - acc: 0.9694 - val_loss: 6.4729 - val_acc: 0.1186\n",
      "Epoch 18/20\n",
      "360/360 [==============================] - 23s 65ms/step - loss: 0.0812 - acc: 0.9694 - val_loss: 6.1585 - val_acc: 0.2542\n",
      "Epoch 19/20\n",
      "360/360 [==============================] - 23s 63ms/step - loss: 0.0410 - acc: 0.9917 - val_loss: 6.6112 - val_acc: 0.2542\n",
      "Epoch 20/20\n",
      "360/360 [==============================] - 28s 78ms/step - loss: 0.0608 - acc: 0.9861 - val_loss: 7.2616 - val_acc: 0.0085\n"
     ]
    },
    {
     "data": {
      "image/png": "[encoded data removed]",
      "text/plain": [
       "<Figure size 432x288 with 2 Axes>"
      ]
     },
     "metadata": {
      "needs_background": "light"
     },
     "output_type": "display_data"
    }
   ],
   "source": [
    "delim = [360]\n",
    "xs = np.split(x, delim)\n",
    "ys = np.split(y, delim)\n",
    "\n",
    "x_train, x_val = xs[0], xs[1]\n",
    "y_train, y_val = to_categorical(ys[0], num_classes), to_categorical(ys[1], num_classes)\n",
    "\n",
    "model = VanillaNeuralNet()\n",
    "optim = optimizers.Adam(lr=0.001)\n",
    "model.compile(loss='categorical_crossentropy', optimizer=optim, metrics=['accuracy'])\n",
    "hist = model.fit(x_train, y_train, validation_data=(x_val, y_val), batch_size=64, epochs=20, shuffle=True)\n",
    "\n",
    "plt.figure()\n",
    "plt.subplot(2,1,1)\n",
    "plt.plot(hist.history['acc'])\n",
    "plt.plot(hist.history['val_acc'])\n",
    "plt.title('Model accuracy')\n",
    "plt.ylabel('Accuracy')\n",
    "plt.xlabel('Epoch')\n",
    "plt.legend(['Train', 'Test'], loc='upper left')\n",
    "\n",
    "plt.subplot(2,1,2)\n",
    "plt.plot(hist.history['loss'])\n",
    "plt.plot(hist.history['val_loss'])\n",
    "plt.title('Model loss')\n",
    "plt.ylabel('Loss')\n",
    "plt.xlabel('Epoch')\n",
    "plt.legend(['Train', 'Test'], loc='upper left')\n",
    "plt.show()"
   ]
  },
  {
   "cell_type": "markdown",
   "metadata": {},
   "source": [
    "## 3. Neural network with feature engineering\n",
    "Instead of training on raw pixels of data, we resort to some fueature engineering methods which could theoretically improve the performance of vanilla neural network."
   ]
  },
  {
   "cell_type": "code",
   "execution_count": null,
   "metadata": {},
   "outputs": [],
   "source": [
    "def FENet():\n",
    "    "
   ]
  },
  {
   "cell_type": "markdown",
   "metadata": {},
   "source": [
    "## 4. ConvNet\n",
    "ConvNet is an instance of typical convolutional neural network."
   ]
  },
  {
   "cell_type": "code",
   "execution_count": 11,
   "metadata": {},
   "outputs": [],
   "source": [
    "def ConvNet():\n",
    "    model = Sequential()\n",
    "    \n",
    "    model.add(BatchNormalization(axis=1, input_shape=(128, 128, 3)))\n",
    "    model.add(LeakyReLU(0.05))\n",
    "    # 3, 128, 128\n",
    "    model.add(Conv2D(128, 5, padding='same'))\n",
    "    model.add(BatchNormalization(axis=1))\n",
    "    model.add(LeakyReLU(0.05))\n",
    "    model.add(MaxPooling2D())\n",
    "    # 64, 64, 64\n",
    "    model.add(Conv2D(128, 3, padding='same'))\n",
    "    model.add(BatchNormalization(axis=1))\n",
    "    model.add(LeakyReLU(0.05))\n",
    "    \n",
    "    model.add(Conv2D(64, 3, padding='same'))\n",
    "    model.add(BatchNormalization(axis=1))\n",
    "    model.add(LeakyReLU(0.05))\n",
    "    model.add(MaxPooling2D())\n",
    "    # 64, 32, 32\n",
    "    model.add(Conv2D(64, 3, padding='same'))\n",
    "    model.add(BatchNormalization(axis=1))\n",
    "    model.add(LeakyReLU(0.05))\n",
    "    \n",
    "    model.add(Flatten())\n",
    "    \n",
    "    model.add(Dense(300))\n",
    "    model.add(BatchNormalization(axis=1))\n",
    "    model.add(LeakyReLU(0.05))\n",
    "    model.add(Dropout(0.5))\n",
    "    \n",
    "    model.add(Dense(300))\n",
    "    model.add(BatchNormalization(axis=1))\n",
    "    model.add(LeakyReLU(0.05))\n",
    "    model.add(Dropout(0.5))\n",
    "    \n",
    "    model.add(Dense(300))\n",
    "    model.add(BatchNormalization(axis=1))\n",
    "    model.add(LeakyReLU(0.05))\n",
    "    model.add(Dropout(0.5))\n",
    "    \n",
    "    model.add(Dense(num_classes))\n",
    "    model.add(Softmax())\n",
    "    \n",
    "    return model"
   ]
  },
  {
   "cell_type": "markdown",
   "metadata": {},
   "source": [
    "### Sanity check"
   ]
  },
  {
   "cell_type": "code",
   "execution_count": 12,
   "metadata": {},
   "outputs": [
    {
     "name": "stdout",
     "output_type": "stream",
     "text": [
      "Epoch 1/20\n",
      "30/30 [==============================] - 27s 914ms/step - loss: 2.1274 - acc: 0.2667\n",
      "Epoch 2/20\n",
      "30/30 [==============================] - 10s 335ms/step - loss: 1.5464 - acc: 0.3667\n",
      "Epoch 3/20\n",
      "30/30 [==============================] - 6s 216ms/step - loss: 1.6172 - acc: 0.4000\n",
      "Epoch 4/20\n",
      "30/30 [==============================] - 7s 228ms/step - loss: 1.1093 - acc: 0.5667\n",
      "Epoch 5/20\n",
      "30/30 [==============================] - 6s 209ms/step - loss: 0.9607 - acc: 0.7000\n",
      "Epoch 6/20\n",
      "30/30 [==============================] - 6s 208ms/step - loss: 0.8062 - acc: 0.7000\n",
      "Epoch 7/20\n",
      "30/30 [==============================] - 7s 218ms/step - loss: 0.5093 - acc: 0.8333\n",
      "Epoch 8/20\n",
      "30/30 [==============================] - 6s 212ms/step - loss: 0.4372 - acc: 0.9000\n",
      "Epoch 9/20\n",
      "30/30 [==============================] - 6s 212ms/step - loss: 0.2197 - acc: 0.9333\n",
      "Epoch 10/20\n",
      "30/30 [==============================] - 6s 209ms/step - loss: 0.1496 - acc: 1.0000\n",
      "Epoch 11/20\n",
      "30/30 [==============================] - 6s 211ms/step - loss: 0.1460 - acc: 0.9667\n",
      "Epoch 12/20\n",
      "30/30 [==============================] - 6s 213ms/step - loss: 0.1201 - acc: 1.0000\n",
      "Epoch 13/20\n",
      "30/30 [==============================] - 6s 209ms/step - loss: 0.1096 - acc: 1.0000\n",
      "Epoch 14/20\n",
      "30/30 [==============================] - 6s 211ms/step - loss: 0.0881 - acc: 1.0000\n",
      "Epoch 15/20\n",
      "30/30 [==============================] - 7s 221ms/step - loss: 0.1101 - acc: 0.9667\n",
      "Epoch 16/20\n",
      "30/30 [==============================] - 7s 224ms/step - loss: 0.0515 - acc: 1.0000\n",
      "Epoch 17/20\n",
      "30/30 [==============================] - 7s 218ms/step - loss: 0.0380 - acc: 1.0000\n",
      "Epoch 18/20\n",
      "30/30 [==============================] - 6s 209ms/step - loss: 0.0328 - acc: 1.0000\n",
      "Epoch 19/20\n",
      "30/30 [==============================] - 6s 210ms/step - loss: 0.0294 - acc: 1.0000\n",
      "Epoch 20/20\n",
      "30/30 [==============================] - 7s 228ms/step - loss: 0.0330 - acc: 1.0000\n"
     ]
    },
    {
     "data": {
      "image/png": "[encoded data removed]",
      "text/plain": [
       "<Figure size 432x288 with 2 Axes>"
      ]
     },
     "metadata": {
      "needs_background": "light"
     },
     "output_type": "display_data"
    }
   ],
   "source": [
    "model = ConvNet()\n",
    "optim = optimizers.Adam(lr=0.001)\n",
    "model.compile(loss='categorical_crossentropy', optimizer=optim, metrics=['accuracy'])\n",
    "hist = model.fit(x_pre, y_pre, batch_size=64, epochs=20, shuffle=True)\n",
    "\n",
    "plt.figure()\n",
    "plt.subplot(2,1,1)\n",
    "plt.plot(hist.history['acc'])\n",
    "plt.title('Model accuracy')\n",
    "plt.ylabel('Accuracy')\n",
    "plt.xlabel('Epoch')\n",
    "plt.legend(['Train'], loc='upper left')\n",
    "\n",
    "plt.subplot(2,1,2)\n",
    "plt.plot(hist.history['loss'])\n",
    "plt.title('Model loss')\n",
    "plt.ylabel('Loss')\n",
    "plt.xlabel('Epoch')\n",
    "plt.legend(['Train'], loc='upper left')\n",
    "plt.show()"
   ]
  },
  {
   "cell_type": "markdown",
   "metadata": {},
   "source": [
    "### Training"
   ]
  },
  {
   "cell_type": "code",
   "execution_count": null,
   "metadata": {},
   "outputs": [
    {
     "name": "stdout",
     "output_type": "stream",
     "text": [
      "Train on 360 samples, validate on 118 samples\n",
      "Epoch 1/20\n",
      "360/360 [==============================] - 494s 1s/step - loss: 1.3347 - acc: 0.4917 - val_loss: 6.2761 - val_acc: 0.0000e+00\n",
      "Epoch 2/20\n",
      "360/360 [==============================] - 543s 2s/step - loss: 0.6037 - acc: 0.7861 - val_loss: 4.6154 - val_acc: 0.2712\n",
      "Epoch 3/20\n",
      "360/360 [==============================] - 576s 2s/step - loss: 0.3021 - acc: 0.9361 - val_loss: 5.0325 - val_acc: 0.2712\n",
      "Epoch 4/20\n",
      "360/360 [==============================] - 578s 2s/step - loss: 0.1650 - acc: 0.9583 - val_loss: 5.0574 - val_acc: 0.0678\n",
      "Epoch 5/20\n",
      "360/360 [==============================] - 501s 1s/step - loss: 0.0826 - acc: 0.9806 - val_loss: 5.8440 - val_acc: 0.0508\n",
      "Epoch 6/20\n",
      "360/360 [==============================] - 534s 1s/step - loss: 0.0423 - acc: 0.9944 - val_loss: 6.8455 - val_acc: 0.0000e+00\n",
      "Epoch 7/20\n",
      " 64/360 [====>.........................] - ETA: 7:05 - loss: 0.0112 - acc: 1.0000"
     ]
    }
   ],
   "source": [
    "delim = [360]\n",
    "xs = np.split(x, delim)\n",
    "ys = np.split(y, delim)\n",
    "\n",
    "x_train, x_val = xs[0], xs[1]\n",
    "y_train, y_val = to_categorical(ys[0], num_classes), to_categorical(ys[1], num_classes)\n",
    "\n",
    "model = ConvNet()\n",
    "optim = optimizers.Adam(lr=0.001)\n",
    "model.compile(loss='categorical_crossentropy', optimizer=optim, metrics=['accuracy'])\n",
    "hist = model.fit(x_train, y_train, validation_data=(x_val, y_val), batch_size=64, epochs=20, shuffle=True)\n",
    "\n",
    "plt.figure()\n",
    "plt.subplot(2,1,1)\n",
    "plt.plot(hist.history['acc'])\n",
    "plt.plot(hist.history['val_acc'])\n",
    "plt.title('Model accuracy')\n",
    "plt.ylabel('Accuracy')\n",
    "plt.xlabel('Epoch')\n",
    "plt.legend(['Train', 'Test'], loc='upper left')\n",
    "\n",
    "plt.subplot(2,1,2)\n",
    "plt.plot(hist.history['loss'])\n",
    "plt.plot(hist.history['val_loss'])\n",
    "plt.title('Model loss')\n",
    "plt.ylabel('Loss')\n",
    "plt.xlabel('Epoch')\n",
    "plt.legend(['Train', 'Test'], loc='upper left')\n",
    "plt.show()"
   ]
  },
  {
   "cell_type": "code",
   "execution_count": null,
   "metadata": {},
   "outputs": [],
   "source": []
  }
 ],
 "metadata": {
  "kernelspec": {
   "display_name": "py368_for_ml",
   "language": "python",
   "name": "py368"
  },
  "language_info": {
   "codemirror_mode": {
    "name": "ipython",
    "version": 3
   },
   "file_extension": ".py",
   "mimetype": "text/x-python",
   "name": "python",
   "nbconvert_exporter": "python",
   "pygments_lexer": "ipython3",
   "version": "3.6.8"
  }
 },
 "nbformat": 4,
 "nbformat_minor": 2
}
